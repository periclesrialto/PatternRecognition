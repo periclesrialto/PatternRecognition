{
  "nbformat": 4,
  "nbformat_minor": 0,
  "metadata": {
    "colab": {
      "name": "Clusters_Study.ipynb",
      "provenance": [],
      "include_colab_link": true
    },
    "kernelspec": {
      "name": "python3",
      "display_name": "Python 3"
    },
    "language_info": {
      "name": "python"
    }
  },
  "cells": [
    {
      "cell_type": "markdown",
      "metadata": {
        "id": "view-in-github",
        "colab_type": "text"
      },
      "source": [
        "<a href=\"https://colab.research.google.com/github/periclesrialto/PatternRecognition/blob/main/Clusters_Study.ipynb\" target=\"_parent\"><img src=\"https://colab.research.google.com/assets/colab-badge.svg\" alt=\"Open In Colab\"/></a>"
      ]
    },
    {
      "cell_type": "code",
      "execution_count": null,
      "metadata": {
        "id": "Eo3R9A9Zetxq"
      },
      "outputs": [],
      "source": [
        "import pandas as pd\n",
        "import matplotlib.pyplot as plt\n",
        "from sklearn.cluster import KMeans\n",
        "import numpy as np\n",
        "from matplotlib import cm\n",
        "from sklearn.metrics import silhouette_samples\n",
        "from scipy.spatial.distance import pdist, squareform\n",
        "from scipy.cluster.hierarchy import linkage\n",
        "from scipy.cluster.hierarchy import dendrogram\n",
        "from sklearn.cluster import DBSCAN\n",
        "from sklearn.preprocessing import StandardScaler"
      ]
    },
    {
      "cell_type": "code",
      "source": [
        "df1 = pd.read_csv('dataset1.txt', header = None, delim_whitespace=True)\n",
        "df2 = pd.read_csv('dataset2.txt', header = None, delim_whitespace=True)\n",
        "df3 = pd.read_csv('dataset3.txt', header = None, delim_whitespace=True)\n",
        "df4 = pd.read_csv('dataset4.txt', header = None, delim_whitespace=True)"
      ],
      "metadata": {
        "id": "Dsrkjllze-pn"
      },
      "execution_count": null,
      "outputs": []
    },
    {
      "cell_type": "markdown",
      "source": [
        "# **Análise Dataset 01**"
      ],
      "metadata": {
        "id": "ruOC2u84hADS"
      }
    },
    {
      "cell_type": "code",
      "source": [
        "df1_columns = []\n",
        "df1_index = []\n",
        "\n",
        "for i in range(len(df1.columns)):\n",
        "  df1_columns.append('F'+ str(i))\n",
        "df1.columns = df1_columns\n",
        "\n",
        "for i in range(len(df1.index)):\n",
        "  df1_index.append('I'+ str(i)) \n",
        "df1.index = df1_index\n",
        "\n",
        "df1"
      ],
      "metadata": {
        "colab": {
          "base_uri": "https://localhost:8080/",
          "height": 424
        },
        "id": "lKeeneF_hxbJ",
        "outputId": "08fa82ed-e1b0-467c-b17d-5edfe3ebf139"
      },
      "execution_count": null,
      "outputs": [
        {
          "output_type": "execute_result",
          "data": {
            "text/plain": [
              "        F0   F1   F2   F3   F4   F5   F6   F7\n",
              "I0     461  501  472  486  517  509  480  515\n",
              "I1     487  511  501  499  490  495  485  512\n",
              "I2     505  506  494  529  495  536  528  522\n",
              "I3     490  507  497  504  487  507  539  461\n",
              "I4     504  491  478  517  472  467  508  514\n",
              "...    ...  ...  ...  ...  ...  ...  ...  ...\n",
              "I2043  603  584  595  582  567  572  573  621\n",
              "I2044  595  625  630  606  589  620  611  616\n",
              "I2045  608  628  592  582  610  615  569  589\n",
              "I2046  604  599  587  627  574  626  619  619\n",
              "I2047  572  602  617  569  594  603  595  619\n",
              "\n",
              "[2048 rows x 8 columns]"
            ],
            "text/html": [
              "\n",
              "  <div id=\"df-a7e678d8-3861-4abf-8ae2-2b257b89abe6\">\n",
              "    <div class=\"colab-df-container\">\n",
              "      <div>\n",
              "<style scoped>\n",
              "    .dataframe tbody tr th:only-of-type {\n",
              "        vertical-align: middle;\n",
              "    }\n",
              "\n",
              "    .dataframe tbody tr th {\n",
              "        vertical-align: top;\n",
              "    }\n",
              "\n",
              "    .dataframe thead th {\n",
              "        text-align: right;\n",
              "    }\n",
              "</style>\n",
              "<table border=\"1\" class=\"dataframe\">\n",
              "  <thead>\n",
              "    <tr style=\"text-align: right;\">\n",
              "      <th></th>\n",
              "      <th>F0</th>\n",
              "      <th>F1</th>\n",
              "      <th>F2</th>\n",
              "      <th>F3</th>\n",
              "      <th>F4</th>\n",
              "      <th>F5</th>\n",
              "      <th>F6</th>\n",
              "      <th>F7</th>\n",
              "    </tr>\n",
              "  </thead>\n",
              "  <tbody>\n",
              "    <tr>\n",
              "      <th>I0</th>\n",
              "      <td>461</td>\n",
              "      <td>501</td>\n",
              "      <td>472</td>\n",
              "      <td>486</td>\n",
              "      <td>517</td>\n",
              "      <td>509</td>\n",
              "      <td>480</td>\n",
              "      <td>515</td>\n",
              "    </tr>\n",
              "    <tr>\n",
              "      <th>I1</th>\n",
              "      <td>487</td>\n",
              "      <td>511</td>\n",
              "      <td>501</td>\n",
              "      <td>499</td>\n",
              "      <td>490</td>\n",
              "      <td>495</td>\n",
              "      <td>485</td>\n",
              "      <td>512</td>\n",
              "    </tr>\n",
              "    <tr>\n",
              "      <th>I2</th>\n",
              "      <td>505</td>\n",
              "      <td>506</td>\n",
              "      <td>494</td>\n",
              "      <td>529</td>\n",
              "      <td>495</td>\n",
              "      <td>536</td>\n",
              "      <td>528</td>\n",
              "      <td>522</td>\n",
              "    </tr>\n",
              "    <tr>\n",
              "      <th>I3</th>\n",
              "      <td>490</td>\n",
              "      <td>507</td>\n",
              "      <td>497</td>\n",
              "      <td>504</td>\n",
              "      <td>487</td>\n",
              "      <td>507</td>\n",
              "      <td>539</td>\n",
              "      <td>461</td>\n",
              "    </tr>\n",
              "    <tr>\n",
              "      <th>I4</th>\n",
              "      <td>504</td>\n",
              "      <td>491</td>\n",
              "      <td>478</td>\n",
              "      <td>517</td>\n",
              "      <td>472</td>\n",
              "      <td>467</td>\n",
              "      <td>508</td>\n",
              "      <td>514</td>\n",
              "    </tr>\n",
              "    <tr>\n",
              "      <th>...</th>\n",
              "      <td>...</td>\n",
              "      <td>...</td>\n",
              "      <td>...</td>\n",
              "      <td>...</td>\n",
              "      <td>...</td>\n",
              "      <td>...</td>\n",
              "      <td>...</td>\n",
              "      <td>...</td>\n",
              "    </tr>\n",
              "    <tr>\n",
              "      <th>I2043</th>\n",
              "      <td>603</td>\n",
              "      <td>584</td>\n",
              "      <td>595</td>\n",
              "      <td>582</td>\n",
              "      <td>567</td>\n",
              "      <td>572</td>\n",
              "      <td>573</td>\n",
              "      <td>621</td>\n",
              "    </tr>\n",
              "    <tr>\n",
              "      <th>I2044</th>\n",
              "      <td>595</td>\n",
              "      <td>625</td>\n",
              "      <td>630</td>\n",
              "      <td>606</td>\n",
              "      <td>589</td>\n",
              "      <td>620</td>\n",
              "      <td>611</td>\n",
              "      <td>616</td>\n",
              "    </tr>\n",
              "    <tr>\n",
              "      <th>I2045</th>\n",
              "      <td>608</td>\n",
              "      <td>628</td>\n",
              "      <td>592</td>\n",
              "      <td>582</td>\n",
              "      <td>610</td>\n",
              "      <td>615</td>\n",
              "      <td>569</td>\n",
              "      <td>589</td>\n",
              "    </tr>\n",
              "    <tr>\n",
              "      <th>I2046</th>\n",
              "      <td>604</td>\n",
              "      <td>599</td>\n",
              "      <td>587</td>\n",
              "      <td>627</td>\n",
              "      <td>574</td>\n",
              "      <td>626</td>\n",
              "      <td>619</td>\n",
              "      <td>619</td>\n",
              "    </tr>\n",
              "    <tr>\n",
              "      <th>I2047</th>\n",
              "      <td>572</td>\n",
              "      <td>602</td>\n",
              "      <td>617</td>\n",
              "      <td>569</td>\n",
              "      <td>594</td>\n",
              "      <td>603</td>\n",
              "      <td>595</td>\n",
              "      <td>619</td>\n",
              "    </tr>\n",
              "  </tbody>\n",
              "</table>\n",
              "<p>2048 rows × 8 columns</p>\n",
              "</div>\n",
              "      <button class=\"colab-df-convert\" onclick=\"convertToInteractive('df-a7e678d8-3861-4abf-8ae2-2b257b89abe6')\"\n",
              "              title=\"Convert this dataframe to an interactive table.\"\n",
              "              style=\"display:none;\">\n",
              "        \n",
              "  <svg xmlns=\"http://www.w3.org/2000/svg\" height=\"24px\"viewBox=\"0 0 24 24\"\n",
              "       width=\"24px\">\n",
              "    <path d=\"M0 0h24v24H0V0z\" fill=\"none\"/>\n",
              "    <path d=\"M18.56 5.44l.94 2.06.94-2.06 2.06-.94-2.06-.94-.94-2.06-.94 2.06-2.06.94zm-11 1L8.5 8.5l.94-2.06 2.06-.94-2.06-.94L8.5 2.5l-.94 2.06-2.06.94zm10 10l.94 2.06.94-2.06 2.06-.94-2.06-.94-.94-2.06-.94 2.06-2.06.94z\"/><path d=\"M17.41 7.96l-1.37-1.37c-.4-.4-.92-.59-1.43-.59-.52 0-1.04.2-1.43.59L10.3 9.45l-7.72 7.72c-.78.78-.78 2.05 0 2.83L4 21.41c.39.39.9.59 1.41.59.51 0 1.02-.2 1.41-.59l7.78-7.78 2.81-2.81c.8-.78.8-2.07 0-2.86zM5.41 20L4 18.59l7.72-7.72 1.47 1.35L5.41 20z\"/>\n",
              "  </svg>\n",
              "      </button>\n",
              "      \n",
              "  <style>\n",
              "    .colab-df-container {\n",
              "      display:flex;\n",
              "      flex-wrap:wrap;\n",
              "      gap: 12px;\n",
              "    }\n",
              "\n",
              "    .colab-df-convert {\n",
              "      background-color: #E8F0FE;\n",
              "      border: none;\n",
              "      border-radius: 50%;\n",
              "      cursor: pointer;\n",
              "      display: none;\n",
              "      fill: #1967D2;\n",
              "      height: 32px;\n",
              "      padding: 0 0 0 0;\n",
              "      width: 32px;\n",
              "    }\n",
              "\n",
              "    .colab-df-convert:hover {\n",
              "      background-color: #E2EBFA;\n",
              "      box-shadow: 0px 1px 2px rgba(60, 64, 67, 0.3), 0px 1px 3px 1px rgba(60, 64, 67, 0.15);\n",
              "      fill: #174EA6;\n",
              "    }\n",
              "\n",
              "    [theme=dark] .colab-df-convert {\n",
              "      background-color: #3B4455;\n",
              "      fill: #D2E3FC;\n",
              "    }\n",
              "\n",
              "    [theme=dark] .colab-df-convert:hover {\n",
              "      background-color: #434B5C;\n",
              "      box-shadow: 0px 1px 3px 1px rgba(0, 0, 0, 0.15);\n",
              "      filter: drop-shadow(0px 1px 2px rgba(0, 0, 0, 0.3));\n",
              "      fill: #FFFFFF;\n",
              "    }\n",
              "  </style>\n",
              "\n",
              "      <script>\n",
              "        const buttonEl =\n",
              "          document.querySelector('#df-a7e678d8-3861-4abf-8ae2-2b257b89abe6 button.colab-df-convert');\n",
              "        buttonEl.style.display =\n",
              "          google.colab.kernel.accessAllowed ? 'block' : 'none';\n",
              "\n",
              "        async function convertToInteractive(key) {\n",
              "          const element = document.querySelector('#df-a7e678d8-3861-4abf-8ae2-2b257b89abe6');\n",
              "          const dataTable =\n",
              "            await google.colab.kernel.invokeFunction('convertToInteractive',\n",
              "                                                     [key], {});\n",
              "          if (!dataTable) return;\n",
              "\n",
              "          const docLinkHtml = 'Like what you see? Visit the ' +\n",
              "            '<a target=\"_blank\" href=https://colab.research.google.com/notebooks/data_table.ipynb>data table notebook</a>'\n",
              "            + ' to learn more about interactive tables.';\n",
              "          element.innerHTML = '';\n",
              "          dataTable['output_type'] = 'display_data';\n",
              "          await google.colab.output.renderOutput(dataTable, element);\n",
              "          const docLink = document.createElement('div');\n",
              "          docLink.innerHTML = docLinkHtml;\n",
              "          element.appendChild(docLink);\n",
              "        }\n",
              "      </script>\n",
              "    </div>\n",
              "  </div>\n",
              "  "
            ]
          },
          "metadata": {},
          "execution_count": 11
        }
      ]
    },
    {
      "cell_type": "code",
      "source": [
        "df1.plot(x='F0', y='F1', style='x')"
      ],
      "metadata": {
        "colab": {
          "base_uri": "https://localhost:8080/",
          "height": 296
        },
        "id": "Dx3pXHz0jXtC",
        "outputId": "f64d6b85-9e2a-40af-e609-8fae957905eb"
      },
      "execution_count": null,
      "outputs": [
        {
          "output_type": "execute_result",
          "data": {
            "text/plain": [
              "<matplotlib.axes._subplots.AxesSubplot at 0x7f89b3b62610>"
            ]
          },
          "metadata": {},
          "execution_count": 12
        },
        {
          "output_type": "display_data",
          "data": {
            "text/plain": [
              "<Figure size 432x288 with 1 Axes>"
            ],
            "image/png": "[encoded data removed]"
          },
          "metadata": {
            "needs_background": "light"
          }
        }
      ]
    },
    {
      "cell_type": "markdown",
      "source": [
        "**Hierarchical Clustering - Distance Matrix**"
      ],
      "metadata": {
        "id": "a_ss1UKrfZ2d"
      }
    },
    {
      "cell_type": "code",
      "source": [
        "row_dist = pd.DataFrame(squareform(pdist(df1, metric='euclidean')),\n",
        "                        columns=df1_index,\n",
        "                        index=df1_index)\n",
        "\n",
        "row_clusters = linkage(row_dist, method='complete', metric='euclidean')\n",
        "pd.DataFrame(row_clusters,\n",
        "             columns=['row label 1', 'row label 2',\n",
        "                      'distance', 'no. of items in clust.'],\n",
        "             index=['cluster %d' % (i + 1)\n",
        "                    for i in range(row_clusters.shape[0])])\n",
        "\n",
        "row_dendr = dendrogram(row_clusters, \n",
        "                       labels=df1_index\n",
        "                       )\n",
        "plt.tight_layout()\n",
        "plt.ylabel('Euclidean distance')\n",
        "plt.show()"
      ],
      "metadata": {
        "colab": {
          "base_uri": "https://localhost:8080/",
          "height": 352
        },
        "id": "M7jkXOJrfaAs",
        "outputId": "f438c9d5-db52-4968-f310-1f031004c6d0"
      },
      "execution_count": null,
      "outputs": [
        {
          "output_type": "stream",
          "name": "stderr",
          "text": [
            "/usr/local/lib/python3.7/dist-packages/ipykernel_launcher.py:5: ClusterWarning: scipy.cluster: The symmetric non-negative hollow observation matrix looks suspiciously like an uncondensed distance matrix\n",
            "  \"\"\"\n"
          ]
        },
        {
          "output_type": "display_data",
          "data": {
            "text/plain": [
              "<Figure size 432x288 with 1 Axes>"
            ],
            "image/png": "[encoded data removed]"
          },
          "metadata": {
            "needs_background": "light"
          }
        }
      ]
    },
    {
      "cell_type": "markdown",
      "source": [
        "**Elbow Method**"
      ],
      "metadata": {
        "id": "W2l99R8ihFj6"
      }
    },
    {
      "cell_type": "code",
      "source": [
        "distortions = []\n",
        "for i in range(1, 11):\n",
        "    km = KMeans(n_clusters=i, \n",
        "                init='k-means++', \n",
        "                n_init=10, \n",
        "                max_iter=300, \n",
        "                random_state=0)\n",
        "    km.fit(df1)\n",
        "    distortions.append(km.inertia_)\n",
        "plt.plot(range(1, 11), distortions, marker='o')\n",
        "plt.xlabel('Number of clusters')\n",
        "plt.ylabel('Distortion')\n",
        "plt.tight_layout()\n",
        "plt.show()"
      ],
      "metadata": {
        "colab": {
          "base_uri": "https://localhost:8080/",
          "height": 297
        },
        "id": "1F_xHpaOhAKx",
        "outputId": "790b3057-ffe5-43e3-ef4d-e99cfd12633f"
      },
      "execution_count": null,
      "outputs": [
        {
          "output_type": "display_data",
          "data": {
            "text/plain": [
              "<Figure size 432x288 with 1 Axes>"
            ],
            "image/png": "[encoded data removed]"
          },
          "metadata": {
            "needs_background": "light"
          }
        }
      ]
    },
    {
      "cell_type": "markdown",
      "source": [
        "**Silhouette Method**"
      ],
      "metadata": {
        "id": "qJ9tLYlhkFqa"
      }
    },
    {
      "cell_type": "code",
      "source": [
        "km = KMeans(n_clusters=2, \n",
        "            init='k-means++', \n",
        "            n_init=10, \n",
        "            max_iter=300,\n",
        "            tol=1e-04,\n",
        "            random_state=0)\n",
        "y_km = km.fit_predict(df1)\n",
        "\n",
        "cluster_labels = np.unique(y_km)\n",
        "n_clusters = cluster_labels.shape[0]\n",
        "silhouette_vals = silhouette_samples(df1, y_km, metric='euclidean')\n",
        "y_ax_lower, y_ax_upper = 0, 0\n",
        "yticks = []\n",
        "for i, c in enumerate(cluster_labels):\n",
        "    c_silhouette_vals = silhouette_vals[y_km == c]\n",
        "    c_silhouette_vals.sort()\n",
        "    y_ax_upper += len(c_silhouette_vals)\n",
        "    color = cm.jet(float(i) / n_clusters)\n",
        "    plt.barh(range(y_ax_lower, y_ax_upper), c_silhouette_vals, height=1.0, \n",
        "             edgecolor='none', color=color)\n",
        "\n",
        "    yticks.append((y_ax_lower + y_ax_upper) / 2.)\n",
        "    y_ax_lower += len(c_silhouette_vals)\n",
        "    \n",
        "silhouette_avg = np.mean(silhouette_vals)\n",
        "plt.axvline(silhouette_avg, color=\"red\", linestyle=\"--\") \n",
        "\n",
        "plt.yticks(yticks, cluster_labels + 1)\n",
        "plt.ylabel('Cluster')\n",
        "plt.xlabel('Silhouette coefficient')\n",
        "\n",
        "plt.tight_layout()\n",
        "plt.show()"
      ],
      "metadata": {
        "colab": {
          "base_uri": "https://localhost:8080/",
          "height": 297
        },
        "id": "7j9nZkWgkF0Q",
        "outputId": "30cf910e-3d24-4002-bb16-415e6dfb085a"
      },
      "execution_count": null,
      "outputs": [
        {
          "output_type": "display_data",
          "data": {
            "text/plain": [
              "<Figure size 432x288 with 1 Axes>"
            ],
            "image/png": "[encoded data removed]"
          },
          "metadata": {
            "needs_background": "light"
          }
        }
      ]
    },
    {
      "cell_type": "markdown",
      "source": [
        "**Centroide dos clusters**"
      ],
      "metadata": {
        "id": "6Z3xZBj360HY"
      }
    },
    {
      "cell_type": "code",
      "source": [
        "plt.scatter(df1.iloc[y_km == 0, 0],\n",
        "            df1.iloc[y_km == 0, 1],\n",
        "            s=50, c='lightgreen',\n",
        "            marker='s', edgecolor='black',\n",
        "            label='Cluster 1')\n",
        "plt.scatter(df1.iloc[y_km == 1, 0],\n",
        "            df1.iloc[y_km == 1, 1],\n",
        "            s=50, c='orange',\n",
        "            marker='o', edgecolor='black',\n",
        "            label='Cluster 2')\n",
        "plt.scatter(km.cluster_centers_[:, 0],\n",
        "            km.cluster_centers_[:, 1],\n",
        "            s=250, marker='*',\n",
        "            c='red', edgecolor='black',\n",
        "            label='Centroids')"
      ],
      "metadata": {
        "colab": {
          "base_uri": "https://localhost:8080/",
          "height": 282
        },
        "id": "lYzQw6jP6ziY",
        "outputId": "44e78d68-b30a-4992-da87-28412e86a000"
      },
      "execution_count": null,
      "outputs": [
        {
          "output_type": "execute_result",
          "data": {
            "text/plain": [
              "<matplotlib.collections.PathCollection at 0x7f6bd6cef050>"
            ]
          },
          "metadata": {},
          "execution_count": 144
        },
        {
          "output_type": "display_data",
          "data": {
            "text/plain": [
              "<Figure size 432x288 with 1 Axes>"
            ],
            "image/png": "[encoded data removed]"
          },
          "metadata": {
            "needs_background": "light"
          }
        }
      ]
    },
    {
      "cell_type": "markdown",
      "source": [
        "# **Análise Dataset 02**"
      ],
      "metadata": {
        "id": "_wb6Htwgnrdw"
      }
    },
    {
      "cell_type": "code",
      "source": [
        "df2_columns = []\n",
        "df2_index = []\n",
        "\n",
        "for i in range(len(df2.columns)):\n",
        "  df2_columns.append('F'+ str(i))\n",
        "df2.columns = df2_columns\n",
        "\n",
        "for i in range(len(df2.index)):\n",
        "  df2_index.append('I'+ str(i)) \n",
        "df2.index = df2_index\n",
        "\n",
        "df2"
      ],
      "metadata": {
        "colab": {
          "base_uri": "https://localhost:8080/",
          "height": 424
        },
        "id": "VtfN88pPpDwE",
        "outputId": "d477853f-19ce-46ab-9299-f5dc385a0b2a"
      },
      "execution_count": null,
      "outputs": [
        {
          "output_type": "execute_result",
          "data": {
            "text/plain": [
              "        F0   F1   F2   F3   F4   F5   F6   F7   F8   F9  ...  F54  F55  F56  \\\n",
              "I0     480  471  552  414  514  452  388  392  527  589  ...  502  485  453   \n",
              "I1     521  512  511  471  413  522  537  476  416  488  ...  564  533  504   \n",
              "I2     518  456  449  478  425  576  500  518  445  497  ...  493  558  530   \n",
              "I3     476  507  417  514  522  511  465  521  558  516  ...  380  643  453   \n",
              "I4     417  540  567  560  447  459  557  420  538  586  ...  514  504  509   \n",
              "...    ...  ...  ...  ...  ...  ...  ...  ...  ...  ...  ...  ...  ...  ...   \n",
              "I2043  549  622  553  532  538  628  585  576  577  706  ...  591  631  598   \n",
              "I2044  560  544  607  569  696  595  543  589  604  622  ...  668  609  576   \n",
              "I2045  631  573  684  573  622  568  598  544  610  593  ...  598  606  584   \n",
              "I2046  569  584  616  631  595  642  508  605  582  580  ...  551  604  658   \n",
              "I2047  609  522  622  566  598  618  598  549  695  685  ...  523  556  658   \n",
              "\n",
              "       F57  F58  F59  F60  F61  F62  F63  \n",
              "I0     508  420  559  545  502  605  484  \n",
              "I1     564  515  495  558  445  455  517  \n",
              "I2     507  512  455  440  510  553  524  \n",
              "I3     464  466  517  537  447  455  534  \n",
              "I4     439  464  490  487  471  552  520  \n",
              "...    ...  ...  ...  ...  ...  ...  ...  \n",
              "I2043  647  553  590  603  610  541  591  \n",
              "I2044  650  573  608  621  625  618  596  \n",
              "I2045  589  617  592  542  647  589  523  \n",
              "I2046  608  539  619  636  671  577  553  \n",
              "I2047  593  611  671  550  645  614  623  \n",
              "\n",
              "[2048 rows x 64 columns]"
            ],
            "text/html": [
              "\n",
              "  <div id=\"df-4daa979c-b197-4e59-bd45-f860fb008d38\">\n",
              "    <div class=\"colab-df-container\">\n",
              "      <div>\n",
              "<style scoped>\n",
              "    .dataframe tbody tr th:only-of-type {\n",
              "        vertical-align: middle;\n",
              "    }\n",
              "\n",
              "    .dataframe tbody tr th {\n",
              "        vertical-align: top;\n",
              "    }\n",
              "\n",
              "    .dataframe thead th {\n",
              "        text-align: right;\n",
              "    }\n",
              "</style>\n",
              "<table border=\"1\" class=\"dataframe\">\n",
              "  <thead>\n",
              "    <tr style=\"text-align: right;\">\n",
              "      <th></th>\n",
              "      <th>F0</th>\n",
              "      <th>F1</th>\n",
              "      <th>F2</th>\n",
              "      <th>F3</th>\n",
              "      <th>F4</th>\n",
              "      <th>F5</th>\n",
              "      <th>F6</th>\n",
              "      <th>F7</th>\n",
              "      <th>F8</th>\n",
              "      <th>F9</th>\n",
              "      <th>...</th>\n",
              "      <th>F54</th>\n",
              "      <th>F55</th>\n",
              "      <th>F56</th>\n",
              "      <th>F57</th>\n",
              "      <th>F58</th>\n",
              "      <th>F59</th>\n",
              "      <th>F60</th>\n",
              "      <th>F61</th>\n",
              "      <th>F62</th>\n",
              "      <th>F63</th>\n",
              "    </tr>\n",
              "  </thead>\n",
              "  <tbody>\n",
              "    <tr>\n",
              "      <th>I0</th>\n",
              "      <td>480</td>\n",
              "      <td>471</td>\n",
              "      <td>552</td>\n",
              "      <td>414</td>\n",
              "      <td>514</td>\n",
              "      <td>452</td>\n",
              "      <td>388</td>\n",
              "      <td>392</td>\n",
              "      <td>527</td>\n",
              "      <td>589</td>\n",
              "      <td>...</td>\n",
              "      <td>502</td>\n",
              "      <td>485</td>\n",
              "      <td>453</td>\n",
              "      <td>508</td>\n",
              "      <td>420</td>\n",
              "      <td>559</td>\n",
              "      <td>545</td>\n",
              "      <td>502</td>\n",
              "      <td>605</td>\n",
              "      <td>484</td>\n",
              "    </tr>\n",
              "    <tr>\n",
              "      <th>I1</th>\n",
              "      <td>521</td>\n",
              "      <td>512</td>\n",
              "      <td>511</td>\n",
              "      <td>471</td>\n",
              "      <td>413</td>\n",
              "      <td>522</td>\n",
              "      <td>537</td>\n",
              "      <td>476</td>\n",
              "      <td>416</td>\n",
              "      <td>488</td>\n",
              "      <td>...</td>\n",
              "      <td>564</td>\n",
              "      <td>533</td>\n",
              "      <td>504</td>\n",
              "      <td>564</td>\n",
              "      <td>515</td>\n",
              "      <td>495</td>\n",
              "      <td>558</td>\n",
              "      <td>445</td>\n",
              "      <td>455</td>\n",
              "      <td>517</td>\n",
              "    </tr>\n",
              "    <tr>\n",
              "      <th>I2</th>\n",
              "      <td>518</td>\n",
              "      <td>456</td>\n",
              "      <td>449</td>\n",
              "      <td>478</td>\n",
              "      <td>425</td>\n",
              "      <td>576</td>\n",
              "      <td>500</td>\n",
              "      <td>518</td>\n",
              "      <td>445</td>\n",
              "      <td>497</td>\n",
              "      <td>...</td>\n",
              "      <td>493</td>\n",
              "      <td>558</td>\n",
              "      <td>530</td>\n",
              "      <td>507</td>\n",
              "      <td>512</td>\n",
              "      <td>455</td>\n",
              "      <td>440</td>\n",
              "      <td>510</td>\n",
              "      <td>553</td>\n",
              "      <td>524</td>\n",
              "    </tr>\n",
              "    <tr>\n",
              "      <th>I3</th>\n",
              "      <td>476</td>\n",
              "      <td>507</td>\n",
              "      <td>417</td>\n",
              "      <td>514</td>\n",
              "      <td>522</td>\n",
              "      <td>511</td>\n",
              "      <td>465</td>\n",
              "      <td>521</td>\n",
              "      <td>558</td>\n",
              "      <td>516</td>\n",
              "      <td>...</td>\n",
              "      <td>380</td>\n",
              "      <td>643</td>\n",
              "      <td>453</td>\n",
              "      <td>464</td>\n",
              "      <td>466</td>\n",
              "      <td>517</td>\n",
              "      <td>537</td>\n",
              "      <td>447</td>\n",
              "      <td>455</td>\n",
              "      <td>534</td>\n",
              "    </tr>\n",
              "    <tr>\n",
              "      <th>I4</th>\n",
              "      <td>417</td>\n",
              "      <td>540</td>\n",
              "      <td>567</td>\n",
              "      <td>560</td>\n",
              "      <td>447</td>\n",
              "      <td>459</td>\n",
              "      <td>557</td>\n",
              "      <td>420</td>\n",
              "      <td>538</td>\n",
              "      <td>586</td>\n",
              "      <td>...</td>\n",
              "      <td>514</td>\n",
              "      <td>504</td>\n",
              "      <td>509</td>\n",
              "      <td>439</td>\n",
              "      <td>464</td>\n",
              "      <td>490</td>\n",
              "      <td>487</td>\n",
              "      <td>471</td>\n",
              "      <td>552</td>\n",
              "      <td>520</td>\n",
              "    </tr>\n",
              "    <tr>\n",
              "      <th>...</th>\n",
              "      <td>...</td>\n",
              "      <td>...</td>\n",
              "      <td>...</td>\n",
              "      <td>...</td>\n",
              "      <td>...</td>\n",
              "      <td>...</td>\n",
              "      <td>...</td>\n",
              "      <td>...</td>\n",
              "      <td>...</td>\n",
              "      <td>...</td>\n",
              "      <td>...</td>\n",
              "      <td>...</td>\n",
              "      <td>...</td>\n",
              "      <td>...</td>\n",
              "      <td>...</td>\n",
              "      <td>...</td>\n",
              "      <td>...</td>\n",
              "      <td>...</td>\n",
              "      <td>...</td>\n",
              "      <td>...</td>\n",
              "      <td>...</td>\n",
              "    </tr>\n",
              "    <tr>\n",
              "      <th>I2043</th>\n",
              "      <td>549</td>\n",
              "      <td>622</td>\n",
              "      <td>553</td>\n",
              "      <td>532</td>\n",
              "      <td>538</td>\n",
              "      <td>628</td>\n",
              "      <td>585</td>\n",
              "      <td>576</td>\n",
              "      <td>577</td>\n",
              "      <td>706</td>\n",
              "      <td>...</td>\n",
              "      <td>591</td>\n",
              "      <td>631</td>\n",
              "      <td>598</td>\n",
              "      <td>647</td>\n",
              "      <td>553</td>\n",
              "      <td>590</td>\n",
              "      <td>603</td>\n",
              "      <td>610</td>\n",
              "      <td>541</td>\n",
              "      <td>591</td>\n",
              "    </tr>\n",
              "    <tr>\n",
              "      <th>I2044</th>\n",
              "      <td>560</td>\n",
              "      <td>544</td>\n",
              "      <td>607</td>\n",
              "      <td>569</td>\n",
              "      <td>696</td>\n",
              "      <td>595</td>\n",
              "      <td>543</td>\n",
              "      <td>589</td>\n",
              "      <td>604</td>\n",
              "      <td>622</td>\n",
              "      <td>...</td>\n",
              "      <td>668</td>\n",
              "      <td>609</td>\n",
              "      <td>576</td>\n",
              "      <td>650</td>\n",
              "      <td>573</td>\n",
              "      <td>608</td>\n",
              "      <td>621</td>\n",
              "      <td>625</td>\n",
              "      <td>618</td>\n",
              "      <td>596</td>\n",
              "    </tr>\n",
              "    <tr>\n",
              "      <th>I2045</th>\n",
              "      <td>631</td>\n",
              "      <td>573</td>\n",
              "      <td>684</td>\n",
              "      <td>573</td>\n",
              "      <td>622</td>\n",
              "      <td>568</td>\n",
              "      <td>598</td>\n",
              "      <td>544</td>\n",
              "      <td>610</td>\n",
              "      <td>593</td>\n",
              "      <td>...</td>\n",
              "      <td>598</td>\n",
              "      <td>606</td>\n",
              "      <td>584</td>\n",
              "      <td>589</td>\n",
              "      <td>617</td>\n",
              "      <td>592</td>\n",
              "      <td>542</td>\n",
              "      <td>647</td>\n",
              "      <td>589</td>\n",
              "      <td>523</td>\n",
              "    </tr>\n",
              "    <tr>\n",
              "      <th>I2046</th>\n",
              "      <td>569</td>\n",
              "      <td>584</td>\n",
              "      <td>616</td>\n",
              "      <td>631</td>\n",
              "      <td>595</td>\n",
              "      <td>642</td>\n",
              "      <td>508</td>\n",
              "      <td>605</td>\n",
              "      <td>582</td>\n",
              "      <td>580</td>\n",
              "      <td>...</td>\n",
              "      <td>551</td>\n",
              "      <td>604</td>\n",
              "      <td>658</td>\n",
              "      <td>608</td>\n",
              "      <td>539</td>\n",
              "      <td>619</td>\n",
              "      <td>636</td>\n",
              "      <td>671</td>\n",
              "      <td>577</td>\n",
              "      <td>553</td>\n",
              "    </tr>\n",
              "    <tr>\n",
              "      <th>I2047</th>\n",
              "      <td>609</td>\n",
              "      <td>522</td>\n",
              "      <td>622</td>\n",
              "      <td>566</td>\n",
              "      <td>598</td>\n",
              "      <td>618</td>\n",
              "      <td>598</td>\n",
              "      <td>549</td>\n",
              "      <td>695</td>\n",
              "      <td>685</td>\n",
              "      <td>...</td>\n",
              "      <td>523</td>\n",
              "      <td>556</td>\n",
              "      <td>658</td>\n",
              "      <td>593</td>\n",
              "      <td>611</td>\n",
              "      <td>671</td>\n",
              "      <td>550</td>\n",
              "      <td>645</td>\n",
              "      <td>614</td>\n",
              "      <td>623</td>\n",
              "    </tr>\n",
              "  </tbody>\n",
              "</table>\n",
              "<p>2048 rows × 64 columns</p>\n",
              "</div>\n",
              "      <button class=\"colab-df-convert\" onclick=\"convertToInteractive('df-4daa979c-b197-4e59-bd45-f860fb008d38')\"\n",
              "              title=\"Convert this dataframe to an interactive table.\"\n",
              "              style=\"display:none;\">\n",
              "        \n",
              "  <svg xmlns=\"http://www.w3.org/2000/svg\" height=\"24px\"viewBox=\"0 0 24 24\"\n",
              "       width=\"24px\">\n",
              "    <path d=\"M0 0h24v24H0V0z\" fill=\"none\"/>\n",
              "    <path d=\"M18.56 5.44l.94 2.06.94-2.06 2.06-.94-2.06-.94-.94-2.06-.94 2.06-2.06.94zm-11 1L8.5 8.5l.94-2.06 2.06-.94-2.06-.94L8.5 2.5l-.94 2.06-2.06.94zm10 10l.94 2.06.94-2.06 2.06-.94-2.06-.94-.94-2.06-.94 2.06-2.06.94z\"/><path d=\"M17.41 7.96l-1.37-1.37c-.4-.4-.92-.59-1.43-.59-.52 0-1.04.2-1.43.59L10.3 9.45l-7.72 7.72c-.78.78-.78 2.05 0 2.83L4 21.41c.39.39.9.59 1.41.59.51 0 1.02-.2 1.41-.59l7.78-7.78 2.81-2.81c.8-.78.8-2.07 0-2.86zM5.41 20L4 18.59l7.72-7.72 1.47 1.35L5.41 20z\"/>\n",
              "  </svg>\n",
              "      </button>\n",
              "      \n",
              "  <style>\n",
              "    .colab-df-container {\n",
              "      display:flex;\n",
              "      flex-wrap:wrap;\n",
              "      gap: 12px;\n",
              "    }\n",
              "\n",
              "    .colab-df-convert {\n",
              "      background-color: #E8F0FE;\n",
              "      border: none;\n",
              "      border-radius: 50%;\n",
              "      cursor: pointer;\n",
              "      display: none;\n",
              "      fill: #1967D2;\n",
              "      height: 32px;\n",
              "      padding: 0 0 0 0;\n",
              "      width: 32px;\n",
              "    }\n",
              "\n",
              "    .colab-df-convert:hover {\n",
              "      background-color: #E2EBFA;\n",
              "      box-shadow: 0px 1px 2px rgba(60, 64, 67, 0.3), 0px 1px 3px 1px rgba(60, 64, 67, 0.15);\n",
              "      fill: #174EA6;\n",
              "    }\n",
              "\n",
              "    [theme=dark] .colab-df-convert {\n",
              "      background-color: #3B4455;\n",
              "      fill: #D2E3FC;\n",
              "    }\n",
              "\n",
              "    [theme=dark] .colab-df-convert:hover {\n",
              "      background-color: #434B5C;\n",
              "      box-shadow: 0px 1px 3px 1px rgba(0, 0, 0, 0.15);\n",
              "      filter: drop-shadow(0px 1px 2px rgba(0, 0, 0, 0.3));\n",
              "      fill: #FFFFFF;\n",
              "    }\n",
              "  </style>\n",
              "\n",
              "      <script>\n",
              "        const buttonEl =\n",
              "          document.querySelector('#df-4daa979c-b197-4e59-bd45-f860fb008d38 button.colab-df-convert');\n",
              "        buttonEl.style.display =\n",
              "          google.colab.kernel.accessAllowed ? 'block' : 'none';\n",
              "\n",
              "        async function convertToInteractive(key) {\n",
              "          const element = document.querySelector('#df-4daa979c-b197-4e59-bd45-f860fb008d38');\n",
              "          const dataTable =\n",
              "            await google.colab.kernel.invokeFunction('convertToInteractive',\n",
              "                                                     [key], {});\n",
              "          if (!dataTable) return;\n",
              "\n",
              "          const docLinkHtml = 'Like what you see? Visit the ' +\n",
              "            '<a target=\"_blank\" href=https://colab.research.google.com/notebooks/data_table.ipynb>data table notebook</a>'\n",
              "            + ' to learn more about interactive tables.';\n",
              "          element.innerHTML = '';\n",
              "          dataTable['output_type'] = 'display_data';\n",
              "          await google.colab.output.renderOutput(dataTable, element);\n",
              "          const docLink = document.createElement('div');\n",
              "          docLink.innerHTML = docLinkHtml;\n",
              "          element.appendChild(docLink);\n",
              "        }\n",
              "      </script>\n",
              "    </div>\n",
              "  </div>\n",
              "  "
            ]
          },
          "metadata": {},
          "execution_count": 3
        }
      ]
    },
    {
      "cell_type": "code",
      "source": [
        "df2.plot(x='F0', y='F1', style='x')"
      ],
      "metadata": {
        "colab": {
          "base_uri": "https://localhost:8080/",
          "height": 296
        },
        "id": "PyFWHkAlnvTE",
        "outputId": "c9a2a863-624e-4836-d4c9-aa49cc4c5944"
      },
      "execution_count": null,
      "outputs": [
        {
          "output_type": "execute_result",
          "data": {
            "text/plain": [
              "<matplotlib.axes._subplots.AxesSubplot at 0x7f89b3c0eb90>"
            ]
          },
          "metadata": {},
          "execution_count": 10
        },
        {
          "output_type": "display_data",
          "data": {
            "text/plain": [
              "<Figure size 432x288 with 1 Axes>"
            ],
            "image/png": "[encoded data removed]"
          },
          "metadata": {
            "needs_background": "light"
          }
        }
      ]
    },
    {
      "cell_type": "markdown",
      "source": [
        "**Variance analysis**"
      ],
      "metadata": {
        "id": "PNNIXQTscs8x"
      }
    },
    {
      "cell_type": "code",
      "source": [
        "sc = StandardScaler()\n",
        "df2_sc = sc.fit_transform(df2)\n",
        "\n",
        "cov_mat = np.cov(df2_sc.T)\n",
        "eigen_vals, eigen_vecs = np.linalg.eig(cov_mat)\n",
        "\n",
        "tot = sum(eigen_vals)\n",
        "var_exp = [(i / tot) for i in sorted(eigen_vals, reverse=True)]\n",
        "cum_var_exp = np.cumsum(var_exp)\n",
        "\n",
        "plt.bar(range(1, 65), var_exp, alpha=0.5, align='center',\n",
        "        label='individual explained variance')\n",
        "plt.step(range(1, 65), cum_var_exp, where='mid',\n",
        "         label='cumulative explained variance')\n",
        "plt.ylabel('Explained variance ratio')\n",
        "plt.xlabel('Principal component index')\n",
        "plt.legend(loc='best')\n",
        "plt.tight_layout()\n",
        "plt.show()"
      ],
      "metadata": {
        "colab": {
          "base_uri": "https://localhost:8080/",
          "height": 297
        },
        "id": "XV73dPKzctFQ",
        "outputId": "94b77698-cd43-4108-a04d-98f47358ea1a"
      },
      "execution_count": null,
      "outputs": [
        {
          "output_type": "display_data",
          "data": {
            "text/plain": [
              "<Figure size 432x288 with 1 Axes>"
            ],
            "image/png": "[encoded data removed]"
          },
          "metadata": {
            "needs_background": "light"
          }
        }
      ]
    },
    {
      "cell_type": "code",
      "source": [
        "eigen_vals"
      ],
      "metadata": {
        "colab": {
          "base_uri": "https://localhost:8080/"
        },
        "id": "QZEwg1P4d4ds",
        "outputId": "0da6d5cd-0866-4e2a-8094-16d373e936a0"
      },
      "execution_count": null,
      "outputs": [
        {
          "output_type": "execute_result",
          "data": {
            "text/plain": [
              "array([32.59786269,  0.67268763,  0.66126438,  0.66021447,  0.64901909,\n",
              "        0.34235713,  0.63378458,  0.36009414,  0.3617744 ,  0.62239129,\n",
              "        0.61433869,  0.60873193,  0.60763979,  0.3722099 ,  0.60073406,\n",
              "        0.37836416,  0.38011481,  0.38630629,  0.38826803,  0.58924268,\n",
              "        0.5873475 ,  0.58311071,  0.58031192,  0.39579555,  0.39864775,\n",
              "        0.5729489 ,  0.40451117,  0.56707278,  0.56207736,  0.55953114,\n",
              "        0.41086069,  0.41399027,  0.41760832,  0.55054212,  0.42449887,\n",
              "        0.43270808,  0.43396655,  0.43963043,  0.43703379,  0.44432208,\n",
              "        0.44716351,  0.45023443,  0.54658128,  0.54001116,  0.53842878,\n",
              "        0.53521317,  0.45500258,  0.4593739 ,  0.46487025,  0.46701102,\n",
              "        0.46858285,  0.47578844,  0.48173524,  0.52972274,  0.48810044,\n",
              "        0.49274763,  0.49546805,  0.49945929,  0.50637436,  0.5228502 ,\n",
              "        0.51172661,  0.51834674,  0.51696403,  0.51559244])"
            ]
          },
          "metadata": {},
          "execution_count": 8
        }
      ]
    },
    {
      "cell_type": "markdown",
      "source": [
        "**Hierarchical Clustering - Distance Matrix**"
      ],
      "metadata": {
        "id": "PBr3IueNxhTd"
      }
    },
    {
      "cell_type": "code",
      "source": [
        "row_dist = pd.DataFrame(squareform(pdist(df2, metric='euclidean')),\n",
        "                        columns=df2_index,\n",
        "                        index=df2_index)\n",
        "\n",
        "row_clusters = linkage(row_dist, method='complete', metric='euclidean')\n",
        "pd.DataFrame(row_clusters,\n",
        "             columns=['row label 1', 'row label 2',\n",
        "                      'distance', 'no. of items in clust.'],\n",
        "             index=['cluster %d' % (i + 1)\n",
        "                    for i in range(row_clusters.shape[0])])\n",
        "\n",
        "row_dendr = dendrogram(row_clusters, \n",
        "                       labels=df2_index\n",
        "                       )\n",
        "plt.tight_layout()\n",
        "plt.ylabel('Euclidean distance')\n",
        "plt.show()"
      ],
      "metadata": {
        "colab": {
          "base_uri": "https://localhost:8080/",
          "height": 352
        },
        "id": "OWQN2NU2xgzr",
        "outputId": "f37d25e3-b5b8-4499-ab33-3be96be361f8"
      },
      "execution_count": null,
      "outputs": [
        {
          "output_type": "stream",
          "name": "stderr",
          "text": [
            "/usr/local/lib/python3.7/dist-packages/ipykernel_launcher.py:5: ClusterWarning: scipy.cluster: The symmetric non-negative hollow observation matrix looks suspiciously like an uncondensed distance matrix\n",
            "  \"\"\"\n"
          ]
        },
        {
          "output_type": "display_data",
          "data": {
            "text/plain": [
              "<Figure size 432x288 with 1 Axes>"
            ],
            "image/png": "[encoded data removed]"
          },
          "metadata": {
            "needs_background": "light"
          }
        }
      ]
    },
    {
      "cell_type": "markdown",
      "source": [
        "**Elbow Method**"
      ],
      "metadata": {
        "id": "0aBhETD0z9aE"
      }
    },
    {
      "cell_type": "code",
      "source": [
        "distortions = []\n",
        "for i in range(1, 11):\n",
        "    km = KMeans(n_clusters=i, \n",
        "                init='k-means++', \n",
        "                n_init=10, \n",
        "                max_iter=300, \n",
        "                random_state=0)\n",
        "    km.fit(df2)\n",
        "    distortions.append(km.inertia_)\n",
        "plt.plot(range(1, 11), distortions, marker='o')\n",
        "plt.xlabel('Number of clusters')\n",
        "plt.ylabel('Distortion')\n",
        "plt.tight_layout()\n",
        "plt.show()"
      ],
      "metadata": {
        "colab": {
          "base_uri": "https://localhost:8080/",
          "height": 297
        },
        "id": "Pbw2sqt-z3-_",
        "outputId": "f6d1c505-3d53-41a5-e03e-31926ab43898"
      },
      "execution_count": null,
      "outputs": [
        {
          "output_type": "display_data",
          "data": {
            "text/plain": [
              "<Figure size 432x288 with 1 Axes>"
            ],
            "image/png": "[encoded data removed]"
          },
          "metadata": {
            "needs_background": "light"
          }
        }
      ]
    },
    {
      "cell_type": "markdown",
      "source": [
        "**Silhouette Method**"
      ],
      "metadata": {
        "id": "AaJW-nEN0FGg"
      }
    },
    {
      "cell_type": "code",
      "source": [
        "km = KMeans(n_clusters=2, \n",
        "            init='k-means++', \n",
        "            n_init=10, \n",
        "            max_iter=300,\n",
        "            tol=1e-04,\n",
        "            random_state=0)\n",
        "y_km = km.fit_predict(df2)\n",
        "\n",
        "cluster_labels = np.unique(y_km)\n",
        "n_clusters = cluster_labels.shape[0]\n",
        "silhouette_vals = silhouette_samples(df2, y_km, metric='euclidean')\n",
        "y_ax_lower, y_ax_upper = 0, 0\n",
        "yticks = []\n",
        "for i, c in enumerate(cluster_labels):\n",
        "    c_silhouette_vals = silhouette_vals[y_km == c]\n",
        "    c_silhouette_vals.sort()\n",
        "    y_ax_upper += len(c_silhouette_vals)\n",
        "    color = cm.jet(float(i) / n_clusters)\n",
        "    plt.barh(range(y_ax_lower, y_ax_upper), c_silhouette_vals, height=1.0, \n",
        "             edgecolor='none', color=color)\n",
        "\n",
        "    yticks.append((y_ax_lower + y_ax_upper) / 2.)\n",
        "    y_ax_lower += len(c_silhouette_vals)\n",
        "    \n",
        "silhouette_avg = np.mean(silhouette_vals)\n",
        "plt.axvline(silhouette_avg, color=\"red\", linestyle=\"--\") \n",
        "\n",
        "plt.yticks(yticks, cluster_labels + 1)\n",
        "plt.ylabel('Cluster')\n",
        "plt.xlabel('Silhouette coefficient')\n",
        "\n",
        "plt.tight_layout()\n",
        "plt.show()"
      ],
      "metadata": {
        "colab": {
          "base_uri": "https://localhost:8080/",
          "height": 297
        },
        "id": "Ffbv_Zpb0FO1",
        "outputId": "327091e1-faf4-4a81-d8cb-c0e410d5837c"
      },
      "execution_count": null,
      "outputs": [
        {
          "output_type": "display_data",
          "data": {
            "text/plain": [
              "<Figure size 432x288 with 1 Axes>"
            ],
            "image/png": "[encoded data removed]"
          },
          "metadata": {
            "needs_background": "light"
          }
        }
      ]
    },
    {
      "cell_type": "markdown",
      "source": [
        ""
      ],
      "metadata": {
        "id": "zGYxXVhL7J-b"
      }
    },
    {
      "cell_type": "code",
      "source": [
        "plt.scatter(df2.iloc[y_km == 0, 0],\n",
        "            df2.iloc[y_km == 0, 1],\n",
        "            s=50, c='lightgreen',\n",
        "            marker='s', edgecolor='black',\n",
        "            label='Cluster 1')\n",
        "plt.scatter(df2.iloc[y_km == 1, 0],\n",
        "            df2.iloc[y_km == 1, 1],\n",
        "            s=50, c='orange',\n",
        "            marker='o', edgecolor='black',\n",
        "            label='Cluster 2')\n",
        "plt.scatter(km.cluster_centers_[:, 0],\n",
        "            km.cluster_centers_[:, 1],\n",
        "            s=250, marker='*',\n",
        "            c='red', edgecolor='black',\n",
        "            label='Centroids')"
      ],
      "metadata": {
        "colab": {
          "base_uri": "https://localhost:8080/",
          "height": 282
        },
        "id": "7VWSXn1r7KKv",
        "outputId": "14d3e4f6-6953-4cf8-d0a6-0972f1b5d6dc"
      },
      "execution_count": null,
      "outputs": [
        {
          "output_type": "execute_result",
          "data": {
            "text/plain": [
              "<matplotlib.collections.PathCollection at 0x7f6bd6bcc310>"
            ]
          },
          "metadata": {},
          "execution_count": 146
        },
        {
          "output_type": "display_data",
          "data": {
            "text/plain": [
              "<Figure size 432x288 with 1 Axes>"
            ],
            "image/png": "[encoded data removed]"
          },
          "metadata": {
            "needs_background": "light"
          }
        }
      ]
    },
    {
      "cell_type": "markdown",
      "source": [
        "# **Análise Dataset 03**"
      ],
      "metadata": {
        "id": "1q2ljvdE0_aj"
      }
    },
    {
      "cell_type": "code",
      "source": [
        "df3_columns = []\n",
        "df3_index = []\n",
        "\n",
        "for i in range(len(df3.columns)):\n",
        "  df3_columns.append('F'+ str(i))\n",
        "df3.columns = df3_columns\n",
        "\n",
        "for i in range(len(df3.index)):\n",
        "  df3_index.append('I'+ str(i)) \n",
        "df3.index = df3_index\n",
        "\n",
        "df3"
      ],
      "metadata": {
        "colab": {
          "base_uri": "https://localhost:8080/",
          "height": 424
        },
        "id": "N3RP0YLF1RpD",
        "outputId": "55c3adce-69cc-43fe-b50f-0771c0accc05"
      },
      "execution_count": null,
      "outputs": [
        {
          "output_type": "execute_result",
          "data": {
            "text/plain": [
              "            F0      F1      F2      F3      F4      F5      F6      F7  \\\n",
              "I0           0       0       0       0       0       0       0       0   \n",
              "I1       29020  860619  658827  854383  199909   71042  181528  450820   \n",
              "I2       32683  862625  671429  818015  192524   52264  146394  447133   \n",
              "I3       34519  859181  678552  824984  194710   50986  164282  448693   \n",
              "I4       35250  847859  652480  828636  196389   63096  166515  429911   \n",
              "...        ...     ...     ...     ...     ...     ...     ...     ...   \n",
              "I10121  894979  754037  463363   52749  142215  102792   98765  616101   \n",
              "I10122  897401  769746  475172   73804  117919  107051  116707  628170   \n",
              "I10123  897758  761942  459441   90884  155699  103705  110074  603910   \n",
              "I10124  897880  763042  462386   48252  153304   89097  116990  607362   \n",
              "I10125  898164  741119  487449  100340  147931  106821  126420  616618   \n",
              "\n",
              "            F8      F9     F10     F11     F12     F13     F14  \n",
              "I0           0       0       0       0       0       0       0  \n",
              "I1       43739  345940  789286  362103  620337  310595  461270  \n",
              "I2       36171  378042  784684  356856  594499  319498  478757  \n",
              "I3       14559  369041  776997  367400  615245  281741  445673  \n",
              "I4       54324  368559  765723  361038  623793  299209  443797  \n",
              "...        ...     ...     ...     ...     ...     ...     ...  \n",
              "I10121  142865  344026  491583  433135  407526  711452  138120  \n",
              "I10122  146481  349597  494219  435437  385405  717765  140622  \n",
              "I10123  129993  351731  470304  437934  392910  696408  158048  \n",
              "I10124  141258  329327  492035  424813  375089  697630  130641  \n",
              "I10125  151083  335320  477066  429103  395196  727106  136475  \n",
              "\n",
              "[10126 rows x 15 columns]"
            ],
            "text/html": [
              "\n",
              "  <div id=\"df-8f360d46-7059-45c8-8125-a2519e55f754\">\n",
              "    <div class=\"colab-df-container\">\n",
              "      <div>\n",
              "<style scoped>\n",
              "    .dataframe tbody tr th:only-of-type {\n",
              "        vertical-align: middle;\n",
              "    }\n",
              "\n",
              "    .dataframe tbody tr th {\n",
              "        vertical-align: top;\n",
              "    }\n",
              "\n",
              "    .dataframe thead th {\n",
              "        text-align: right;\n",
              "    }\n",
              "</style>\n",
              "<table border=\"1\" class=\"dataframe\">\n",
              "  <thead>\n",
              "    <tr style=\"text-align: right;\">\n",
              "      <th></th>\n",
              "      <th>F0</th>\n",
              "      <th>F1</th>\n",
              "      <th>F2</th>\n",
              "      <th>F3</th>\n",
              "      <th>F4</th>\n",
              "      <th>F5</th>\n",
              "      <th>F6</th>\n",
              "      <th>F7</th>\n",
              "      <th>F8</th>\n",
              "      <th>F9</th>\n",
              "      <th>F10</th>\n",
              "      <th>F11</th>\n",
              "      <th>F12</th>\n",
              "      <th>F13</th>\n",
              "      <th>F14</th>\n",
              "    </tr>\n",
              "  </thead>\n",
              "  <tbody>\n",
              "    <tr>\n",
              "      <th>I0</th>\n",
              "      <td>0</td>\n",
              "      <td>0</td>\n",
              "      <td>0</td>\n",
              "      <td>0</td>\n",
              "      <td>0</td>\n",
              "      <td>0</td>\n",
              "      <td>0</td>\n",
              "      <td>0</td>\n",
              "      <td>0</td>\n",
              "      <td>0</td>\n",
              "      <td>0</td>\n",
              "      <td>0</td>\n",
              "      <td>0</td>\n",
              "      <td>0</td>\n",
              "      <td>0</td>\n",
              "    </tr>\n",
              "    <tr>\n",
              "      <th>I1</th>\n",
              "      <td>29020</td>\n",
              "      <td>860619</td>\n",
              "      <td>658827</td>\n",
              "      <td>854383</td>\n",
              "      <td>199909</td>\n",
              "      <td>71042</td>\n",
              "      <td>181528</td>\n",
              "      <td>450820</td>\n",
              "      <td>43739</td>\n",
              "      <td>345940</td>\n",
              "      <td>789286</td>\n",
              "      <td>362103</td>\n",
              "      <td>620337</td>\n",
              "      <td>310595</td>\n",
              "      <td>461270</td>\n",
              "    </tr>\n",
              "    <tr>\n",
              "      <th>I2</th>\n",
              "      <td>32683</td>\n",
              "      <td>862625</td>\n",
              "      <td>671429</td>\n",
              "      <td>818015</td>\n",
              "      <td>192524</td>\n",
              "      <td>52264</td>\n",
              "      <td>146394</td>\n",
              "      <td>447133</td>\n",
              "      <td>36171</td>\n",
              "      <td>378042</td>\n",
              "      <td>784684</td>\n",
              "      <td>356856</td>\n",
              "      <td>594499</td>\n",
              "      <td>319498</td>\n",
              "      <td>478757</td>\n",
              "    </tr>\n",
              "    <tr>\n",
              "      <th>I3</th>\n",
              "      <td>34519</td>\n",
              "      <td>859181</td>\n",
              "      <td>678552</td>\n",
              "      <td>824984</td>\n",
              "      <td>194710</td>\n",
              "      <td>50986</td>\n",
              "      <td>164282</td>\n",
              "      <td>448693</td>\n",
              "      <td>14559</td>\n",
              "      <td>369041</td>\n",
              "      <td>776997</td>\n",
              "      <td>367400</td>\n",
              "      <td>615245</td>\n",
              "      <td>281741</td>\n",
              "      <td>445673</td>\n",
              "    </tr>\n",
              "    <tr>\n",
              "      <th>I4</th>\n",
              "      <td>35250</td>\n",
              "      <td>847859</td>\n",
              "      <td>652480</td>\n",
              "      <td>828636</td>\n",
              "      <td>196389</td>\n",
              "      <td>63096</td>\n",
              "      <td>166515</td>\n",
              "      <td>429911</td>\n",
              "      <td>54324</td>\n",
              "      <td>368559</td>\n",
              "      <td>765723</td>\n",
              "      <td>361038</td>\n",
              "      <td>623793</td>\n",
              "      <td>299209</td>\n",
              "      <td>443797</td>\n",
              "    </tr>\n",
              "    <tr>\n",
              "      <th>...</th>\n",
              "      <td>...</td>\n",
              "      <td>...</td>\n",
              "      <td>...</td>\n",
              "      <td>...</td>\n",
              "      <td>...</td>\n",
              "      <td>...</td>\n",
              "      <td>...</td>\n",
              "      <td>...</td>\n",
              "      <td>...</td>\n",
              "      <td>...</td>\n",
              "      <td>...</td>\n",
              "      <td>...</td>\n",
              "      <td>...</td>\n",
              "      <td>...</td>\n",
              "      <td>...</td>\n",
              "    </tr>\n",
              "    <tr>\n",
              "      <th>I10121</th>\n",
              "      <td>894979</td>\n",
              "      <td>754037</td>\n",
              "      <td>463363</td>\n",
              "      <td>52749</td>\n",
              "      <td>142215</td>\n",
              "      <td>102792</td>\n",
              "      <td>98765</td>\n",
              "      <td>616101</td>\n",
              "      <td>142865</td>\n",
              "      <td>344026</td>\n",
              "      <td>491583</td>\n",
              "      <td>433135</td>\n",
              "      <td>407526</td>\n",
              "      <td>711452</td>\n",
              "      <td>138120</td>\n",
              "    </tr>\n",
              "    <tr>\n",
              "      <th>I10122</th>\n",
              "      <td>897401</td>\n",
              "      <td>769746</td>\n",
              "      <td>475172</td>\n",
              "      <td>73804</td>\n",
              "      <td>117919</td>\n",
              "      <td>107051</td>\n",
              "      <td>116707</td>\n",
              "      <td>628170</td>\n",
              "      <td>146481</td>\n",
              "      <td>349597</td>\n",
              "      <td>494219</td>\n",
              "      <td>435437</td>\n",
              "      <td>385405</td>\n",
              "      <td>717765</td>\n",
              "      <td>140622</td>\n",
              "    </tr>\n",
              "    <tr>\n",
              "      <th>I10123</th>\n",
              "      <td>897758</td>\n",
              "      <td>761942</td>\n",
              "      <td>459441</td>\n",
              "      <td>90884</td>\n",
              "      <td>155699</td>\n",
              "      <td>103705</td>\n",
              "      <td>110074</td>\n",
              "      <td>603910</td>\n",
              "      <td>129993</td>\n",
              "      <td>351731</td>\n",
              "      <td>470304</td>\n",
              "      <td>437934</td>\n",
              "      <td>392910</td>\n",
              "      <td>696408</td>\n",
              "      <td>158048</td>\n",
              "    </tr>\n",
              "    <tr>\n",
              "      <th>I10124</th>\n",
              "      <td>897880</td>\n",
              "      <td>763042</td>\n",
              "      <td>462386</td>\n",
              "      <td>48252</td>\n",
              "      <td>153304</td>\n",
              "      <td>89097</td>\n",
              "      <td>116990</td>\n",
              "      <td>607362</td>\n",
              "      <td>141258</td>\n",
              "      <td>329327</td>\n",
              "      <td>492035</td>\n",
              "      <td>424813</td>\n",
              "      <td>375089</td>\n",
              "      <td>697630</td>\n",
              "      <td>130641</td>\n",
              "    </tr>\n",
              "    <tr>\n",
              "      <th>I10125</th>\n",
              "      <td>898164</td>\n",
              "      <td>741119</td>\n",
              "      <td>487449</td>\n",
              "      <td>100340</td>\n",
              "      <td>147931</td>\n",
              "      <td>106821</td>\n",
              "      <td>126420</td>\n",
              "      <td>616618</td>\n",
              "      <td>151083</td>\n",
              "      <td>335320</td>\n",
              "      <td>477066</td>\n",
              "      <td>429103</td>\n",
              "      <td>395196</td>\n",
              "      <td>727106</td>\n",
              "      <td>136475</td>\n",
              "    </tr>\n",
              "  </tbody>\n",
              "</table>\n",
              "<p>10126 rows × 15 columns</p>\n",
              "</div>\n",
              "      <button class=\"colab-df-convert\" onclick=\"convertToInteractive('df-8f360d46-7059-45c8-8125-a2519e55f754')\"\n",
              "              title=\"Convert this dataframe to an interactive table.\"\n",
              "              style=\"display:none;\">\n",
              "        \n",
              "  <svg xmlns=\"http://www.w3.org/2000/svg\" height=\"24px\"viewBox=\"0 0 24 24\"\n",
              "       width=\"24px\">\n",
              "    <path d=\"M0 0h24v24H0V0z\" fill=\"none\"/>\n",
              "    <path d=\"M18.56 5.44l.94 2.06.94-2.06 2.06-.94-2.06-.94-.94-2.06-.94 2.06-2.06.94zm-11 1L8.5 8.5l.94-2.06 2.06-.94-2.06-.94L8.5 2.5l-.94 2.06-2.06.94zm10 10l.94 2.06.94-2.06 2.06-.94-2.06-.94-.94-2.06-.94 2.06-2.06.94z\"/><path d=\"M17.41 7.96l-1.37-1.37c-.4-.4-.92-.59-1.43-.59-.52 0-1.04.2-1.43.59L10.3 9.45l-7.72 7.72c-.78.78-.78 2.05 0 2.83L4 21.41c.39.39.9.59 1.41.59.51 0 1.02-.2 1.41-.59l7.78-7.78 2.81-2.81c.8-.78.8-2.07 0-2.86zM5.41 20L4 18.59l7.72-7.72 1.47 1.35L5.41 20z\"/>\n",
              "  </svg>\n",
              "      </button>\n",
              "      \n",
              "  <style>\n",
              "    .colab-df-container {\n",
              "      display:flex;\n",
              "      flex-wrap:wrap;\n",
              "      gap: 12px;\n",
              "    }\n",
              "\n",
              "    .colab-df-convert {\n",
              "      background-color: #E8F0FE;\n",
              "      border: none;\n",
              "      border-radius: 50%;\n",
              "      cursor: pointer;\n",
              "      display: none;\n",
              "      fill: #1967D2;\n",
              "      height: 32px;\n",
              "      padding: 0 0 0 0;\n",
              "      width: 32px;\n",
              "    }\n",
              "\n",
              "    .colab-df-convert:hover {\n",
              "      background-color: #E2EBFA;\n",
              "      box-shadow: 0px 1px 2px rgba(60, 64, 67, 0.3), 0px 1px 3px 1px rgba(60, 64, 67, 0.15);\n",
              "      fill: #174EA6;\n",
              "    }\n",
              "\n",
              "    [theme=dark] .colab-df-convert {\n",
              "      background-color: #3B4455;\n",
              "      fill: #D2E3FC;\n",
              "    }\n",
              "\n",
              "    [theme=dark] .colab-df-convert:hover {\n",
              "      background-color: #434B5C;\n",
              "      box-shadow: 0px 1px 3px 1px rgba(0, 0, 0, 0.15);\n",
              "      filter: drop-shadow(0px 1px 2px rgba(0, 0, 0, 0.3));\n",
              "      fill: #FFFFFF;\n",
              "    }\n",
              "  </style>\n",
              "\n",
              "      <script>\n",
              "        const buttonEl =\n",
              "          document.querySelector('#df-8f360d46-7059-45c8-8125-a2519e55f754 button.colab-df-convert');\n",
              "        buttonEl.style.display =\n",
              "          google.colab.kernel.accessAllowed ? 'block' : 'none';\n",
              "\n",
              "        async function convertToInteractive(key) {\n",
              "          const element = document.querySelector('#df-8f360d46-7059-45c8-8125-a2519e55f754');\n",
              "          const dataTable =\n",
              "            await google.colab.kernel.invokeFunction('convertToInteractive',\n",
              "                                                     [key], {});\n",
              "          if (!dataTable) return;\n",
              "\n",
              "          const docLinkHtml = 'Like what you see? Visit the ' +\n",
              "            '<a target=\"_blank\" href=https://colab.research.google.com/notebooks/data_table.ipynb>data table notebook</a>'\n",
              "            + ' to learn more about interactive tables.';\n",
              "          element.innerHTML = '';\n",
              "          dataTable['output_type'] = 'display_data';\n",
              "          await google.colab.output.renderOutput(dataTable, element);\n",
              "          const docLink = document.createElement('div');\n",
              "          docLink.innerHTML = docLinkHtml;\n",
              "          element.appendChild(docLink);\n",
              "        }\n",
              "      </script>\n",
              "    </div>\n",
              "  </div>\n",
              "  "
            ]
          },
          "metadata": {},
          "execution_count": 122
        }
      ]
    },
    {
      "cell_type": "code",
      "source": [
        "df3.plot(x='F1', y='F2', style='x')"
      ],
      "metadata": {
        "colab": {
          "base_uri": "https://localhost:8080/",
          "height": 290
        },
        "id": "9KmtQ8Zq1din",
        "outputId": "29f452ef-2e6e-44c2-f685-3feadaa79e7e"
      },
      "execution_count": null,
      "outputs": [
        {
          "output_type": "display_data",
          "data": {
            "text/plain": [
              "<Figure size 432x288 with 1 Axes>"
            ],
            "image/png": "[encoded data removed]"
          },
          "metadata": {
            "needs_background": "light"
          }
        }
      ]
    },
    {
      "cell_type": "markdown",
      "source": [
        "**Hierarchical Clustering - Distance Matrix**"
      ],
      "metadata": {
        "id": "NzgltYbe3iDF"
      }
    },
    {
      "cell_type": "code",
      "source": [
        "row_dist = pd.DataFrame(squareform(pdist(df3, metric='euclidean')),\n",
        "                        columns=df3_index,\n",
        "                        index=df3_index)\n",
        "\n",
        "row_clusters = linkage(row_dist, method='complete', metric='euclidean')\n",
        "pd.DataFrame(row_clusters,\n",
        "             columns=['row label 1', 'row label 2',\n",
        "                      'distance', 'no. of items in clust.'],\n",
        "             index=['cluster %d' % (i + 1)\n",
        "                    for i in range(row_clusters.shape[0])])\n",
        "\n",
        "row_dendr = dendrogram(row_clusters, \n",
        "                       labels=df3_index\n",
        "                       )\n",
        "plt.tight_layout()\n",
        "plt.ylabel('Euclidean distance')\n",
        "plt.show()"
      ],
      "metadata": {
        "colab": {
          "base_uri": "https://localhost:8080/",
          "height": 352
        },
        "id": "EvNYGSrR1q4h",
        "outputId": "6c988c9b-35d1-4a89-c2ad-90b5526f860f"
      },
      "execution_count": null,
      "outputs": [
        {
          "output_type": "stream",
          "name": "stderr",
          "text": [
            "/usr/local/lib/python3.7/dist-packages/ipykernel_launcher.py:5: ClusterWarning: scipy.cluster: The symmetric non-negative hollow observation matrix looks suspiciously like an uncondensed distance matrix\n",
            "  \"\"\"\n"
          ]
        },
        {
          "output_type": "display_data",
          "data": {
            "text/plain": [
              "<Figure size 432x288 with 1 Axes>"
            ],
            "image/png": "[encoded data removed]"
          },
          "metadata": {
            "needs_background": "light"
          }
        }
      ]
    },
    {
      "cell_type": "markdown",
      "source": [
        "**Elbow Method**"
      ],
      "metadata": {
        "id": "Xzrzmulh3izH"
      }
    },
    {
      "cell_type": "code",
      "source": [
        "distortions = []\n",
        "for i in range(1, 15):\n",
        "    km = KMeans(n_clusters=i, \n",
        "                init='k-means++', \n",
        "                n_init=10, \n",
        "                max_iter=300, \n",
        "                random_state=0)\n",
        "    km.fit(df3)\n",
        "    distortions.append(km.inertia_)\n",
        "plt.plot(range(1, 15), distortions, marker='o')\n",
        "plt.xlabel('Number of clusters')\n",
        "plt.ylabel('Distortion')\n",
        "plt.tight_layout()\n",
        "plt.show()"
      ],
      "metadata": {
        "colab": {
          "base_uri": "https://localhost:8080/",
          "height": 297
        },
        "id": "-M0N5IR93jKg",
        "outputId": "8a7d2fe4-cd55-413c-a697-fb1274191b58"
      },
      "execution_count": null,
      "outputs": [
        {
          "output_type": "display_data",
          "data": {
            "text/plain": [
              "<Figure size 432x288 with 1 Axes>"
            ],
            "image/png": "[encoded data removed]"
          },
          "metadata": {
            "needs_background": "light"
          }
        }
      ]
    },
    {
      "cell_type": "markdown",
      "source": [
        "**Silhouette Method**"
      ],
      "metadata": {
        "id": "f5H1asVf3xQQ"
      }
    },
    {
      "cell_type": "code",
      "source": [
        "km = KMeans(n_clusters=9, \n",
        "            init='k-means++', \n",
        "            n_init=10, \n",
        "            max_iter=300,\n",
        "            tol=1e-04,\n",
        "            random_state=0)\n",
        "y_km = km.fit_predict(df3)\n",
        "\n",
        "cluster_labels = np.unique(y_km)\n",
        "n_clusters = cluster_labels.shape[0]\n",
        "silhouette_vals = silhouette_samples(df3, y_km, metric='euclidean')\n",
        "y_ax_lower, y_ax_upper = 0, 0\n",
        "yticks = []\n",
        "for i, c in enumerate(cluster_labels):\n",
        "    c_silhouette_vals = silhouette_vals[y_km == c]\n",
        "    c_silhouette_vals.sort()\n",
        "    y_ax_upper += len(c_silhouette_vals)\n",
        "    color = cm.jet(float(i) / n_clusters)\n",
        "    plt.barh(range(y_ax_lower, y_ax_upper), c_silhouette_vals, height=1.0, \n",
        "             edgecolor='none', color=color)\n",
        "\n",
        "    yticks.append((y_ax_lower + y_ax_upper) / 2.)\n",
        "    y_ax_lower += len(c_silhouette_vals)\n",
        "    \n",
        "silhouette_avg = np.mean(silhouette_vals)\n",
        "plt.axvline(silhouette_avg, color=\"red\", linestyle=\"--\") \n",
        "\n",
        "plt.yticks(yticks, cluster_labels + 1)\n",
        "plt.ylabel('Cluster')\n",
        "plt.xlabel('Silhouette coefficient')\n",
        "\n",
        "plt.tight_layout()\n",
        "plt.show()"
      ],
      "metadata": {
        "colab": {
          "base_uri": "https://localhost:8080/",
          "height": 297
        },
        "id": "13hlCQC13xYI",
        "outputId": "84b149ba-ad34-4d78-86b4-07c765572d26"
      },
      "execution_count": null,
      "outputs": [
        {
          "output_type": "display_data",
          "data": {
            "text/plain": [
              "<Figure size 432x288 with 1 Axes>"
            ],
            "image/png": "[encoded data removed]"
          },
          "metadata": {
            "needs_background": "light"
          }
        }
      ]
    },
    {
      "cell_type": "markdown",
      "source": [
        "**Centroide dos clusters**"
      ],
      "metadata": {
        "id": "7BZikWzc7ZKc"
      }
    },
    {
      "cell_type": "code",
      "source": [
        "for cluster in range(0,8):\n",
        "  color = cm.jet(float(cluster) / 9)\n",
        "  plt.scatter(df3.iloc[y_km == cluster, 0],\n",
        "              df3.iloc[y_km == cluster, 1],\n",
        "              s=50, c=color,\n",
        "              marker='s', edgecolor='black',\n",
        "              label='Cluster'+str(cluster))\n",
        "\n",
        "plt.scatter(km.cluster_centers_[:, 0],\n",
        "            km.cluster_centers_[:, 1],\n",
        "            s=250, marker='*',\n",
        "            c='red', edgecolor='black',\n",
        "            label='Centroids')"
      ],
      "metadata": {
        "colab": {
          "base_uri": "https://localhost:8080/",
          "height": 452
        },
        "id": "4HQF--4Y7ZTw",
        "outputId": "8d0d145b-f7e1-4a49-f4c6-dd119f846543"
      },
      "execution_count": null,
      "outputs": [
        {
          "output_type": "stream",
          "name": "stderr",
          "text": [
            "*c* argument looks like a single numeric RGB or RGBA sequence, which should be avoided as value-mapping will have precedence in case its length matches with *x* & *y*.  Please use the *color* keyword-argument or provide a 2-D array with a single row if you intend to specify the same RGB or RGBA value for all points.\n",
            "*c* argument looks like a single numeric RGB or RGBA sequence, which should be avoided as value-mapping will have precedence in case its length matches with *x* & *y*.  Please use the *color* keyword-argument or provide a 2-D array with a single row if you intend to specify the same RGB or RGBA value for all points.\n",
            "*c* argument looks like a single numeric RGB or RGBA sequence, which should be avoided as value-mapping will have precedence in case its length matches with *x* & *y*.  Please use the *color* keyword-argument or provide a 2-D array with a single row if you intend to specify the same RGB or RGBA value for all points.\n",
            "*c* argument looks like a single numeric RGB or RGBA sequence, which should be avoided as value-mapping will have precedence in case its length matches with *x* & *y*.  Please use the *color* keyword-argument or provide a 2-D array with a single row if you intend to specify the same RGB or RGBA value for all points.\n",
            "*c* argument looks like a single numeric RGB or RGBA sequence, which should be avoided as value-mapping will have precedence in case its length matches with *x* & *y*.  Please use the *color* keyword-argument or provide a 2-D array with a single row if you intend to specify the same RGB or RGBA value for all points.\n",
            "*c* argument looks like a single numeric RGB or RGBA sequence, which should be avoided as value-mapping will have precedence in case its length matches with *x* & *y*.  Please use the *color* keyword-argument or provide a 2-D array with a single row if you intend to specify the same RGB or RGBA value for all points.\n",
            "*c* argument looks like a single numeric RGB or RGBA sequence, which should be avoided as value-mapping will have precedence in case its length matches with *x* & *y*.  Please use the *color* keyword-argument or provide a 2-D array with a single row if you intend to specify the same RGB or RGBA value for all points.\n",
            "*c* argument looks like a single numeric RGB or RGBA sequence, which should be avoided as value-mapping will have precedence in case its length matches with *x* & *y*.  Please use the *color* keyword-argument or provide a 2-D array with a single row if you intend to specify the same RGB or RGBA value for all points.\n"
          ]
        },
        {
          "output_type": "execute_result",
          "data": {
            "text/plain": [
              "<matplotlib.collections.PathCollection at 0x7f6bd6bdf650>"
            ]
          },
          "metadata": {},
          "execution_count": 156
        },
        {
          "output_type": "display_data",
          "data": {
            "text/plain": [
              "<Figure size 432x288 with 1 Axes>"
            ],
            "image/png": "[encoded data removed]"
          },
          "metadata": {
            "needs_background": "light"
          }
        }
      ]
    },
    {
      "cell_type": "markdown",
      "source": [
        "# **Análise Dataset 04**"
      ],
      "metadata": {
        "id": "0zcpy58Q_uKj"
      }
    },
    {
      "cell_type": "code",
      "source": [
        "df4_columns = []\n",
        "df4_index = []\n",
        "\n",
        "for i in range(len(df4.columns)):\n",
        "  df4_columns.append('F'+ str(i))\n",
        "df4.columns = df4_columns\n",
        "\n",
        "for i in range(len(df4.index)):\n",
        "  df4_index.append('I'+ str(i)) \n",
        "df4.index = df4_index\n",
        "\n",
        "df4"
      ],
      "metadata": {
        "colab": {
          "base_uri": "https://localhost:8080/",
          "height": 424
        },
        "id": "jU99MtGI_ugX",
        "outputId": "73073340-ae03-4b1f-d65f-7f29aaefe4ef"
      },
      "execution_count": null,
      "outputs": [
        {
          "output_type": "execute_result",
          "data": {
            "text/plain": [
              "        F0   F1   F2   F3   F4  F5   F6   F7   F8   F9  ...  F1014  F1015  \\\n",
              "I0     126  151  205   39  163  36  136  187  113  196  ...     86    112   \n",
              "I1     126  151  205   39  162  36  136  187  113  195  ...     86    112   \n",
              "I2     126  151  205   39  163  36  137  188  113  195  ...     86    111   \n",
              "I3     126  151  204   39  162  37  136  187  113  194  ...     87    112   \n",
              "I4     127  151  206   39  162  36  135  188  112  195  ...     86    112   \n",
              "...    ...  ...  ...  ...  ...  ..  ...  ...  ...  ...  ...    ...    ...   \n",
              "I1019  147  132   73  127   94  35  189   83  214   84  ...     47     62   \n",
              "I1020  148  133   74  126   93  35  189   82  213   85  ...     46     62   \n",
              "I1021  148  132   74  126   94  36  188   83  215   84  ...     46     62   \n",
              "I1022  148  133   74  126   94  36  189   82  215   84  ...     46     62   \n",
              "I1023  148  133   73  126   94  36  189   82  214   84  ...     46     62   \n",
              "\n",
              "       F1016  F1017  F1018  F1019  F1020  F1021  F1022  F1023  \n",
              "I0       165    173    204     91     59    149    139    128  \n",
              "I1       165    174    204     91     59    148    139    127  \n",
              "I2       165    173    204     91     59    148    139    127  \n",
              "I3       165    172    203     91     59    148    140    127  \n",
              "I4       165    173    204     91     59    148    139    128  \n",
              "...      ...    ...    ...    ...    ...    ...    ...    ...  \n",
              "I1019    181     48     74    119    136     76    147    191  \n",
              "I1020    182     49     76    119    136     75    146    190  \n",
              "I1021    182     49     75    119    136     75    147    191  \n",
              "I1022    182     49     75    120    136     76    147    191  \n",
              "I1023    182     49     75    119    136     75    147    191  \n",
              "\n",
              "[1024 rows x 1024 columns]"
            ],
            "text/html": [
              "\n",
              "  <div id=\"df-bea8d982-8807-4551-8c15-33d6be6d1e9c\">\n",
              "    <div class=\"colab-df-container\">\n",
              "      <div>\n",
              "<style scoped>\n",
              "    .dataframe tbody tr th:only-of-type {\n",
              "        vertical-align: middle;\n",
              "    }\n",
              "\n",
              "    .dataframe tbody tr th {\n",
              "        vertical-align: top;\n",
              "    }\n",
              "\n",
              "    .dataframe thead th {\n",
              "        text-align: right;\n",
              "    }\n",
              "</style>\n",
              "<table border=\"1\" class=\"dataframe\">\n",
              "  <thead>\n",
              "    <tr style=\"text-align: right;\">\n",
              "      <th></th>\n",
              "      <th>F0</th>\n",
              "      <th>F1</th>\n",
              "      <th>F2</th>\n",
              "      <th>F3</th>\n",
              "      <th>F4</th>\n",
              "      <th>F5</th>\n",
              "      <th>F6</th>\n",
              "      <th>F7</th>\n",
              "      <th>F8</th>\n",
              "      <th>F9</th>\n",
              "      <th>...</th>\n",
              "      <th>F1014</th>\n",
              "      <th>F1015</th>\n",
              "      <th>F1016</th>\n",
              "      <th>F1017</th>\n",
              "      <th>F1018</th>\n",
              "      <th>F1019</th>\n",
              "      <th>F1020</th>\n",
              "      <th>F1021</th>\n",
              "      <th>F1022</th>\n",
              "      <th>F1023</th>\n",
              "    </tr>\n",
              "  </thead>\n",
              "  <tbody>\n",
              "    <tr>\n",
              "      <th>I0</th>\n",
              "      <td>126</td>\n",
              "      <td>151</td>\n",
              "      <td>205</td>\n",
              "      <td>39</td>\n",
              "      <td>163</td>\n",
              "      <td>36</td>\n",
              "      <td>136</td>\n",
              "      <td>187</td>\n",
              "      <td>113</td>\n",
              "      <td>196</td>\n",
              "      <td>...</td>\n",
              "      <td>86</td>\n",
              "      <td>112</td>\n",
              "      <td>165</td>\n",
              "      <td>173</td>\n",
              "      <td>204</td>\n",
              "      <td>91</td>\n",
              "      <td>59</td>\n",
              "      <td>149</td>\n",
              "      <td>139</td>\n",
              "      <td>128</td>\n",
              "    </tr>\n",
              "    <tr>\n",
              "      <th>I1</th>\n",
              "      <td>126</td>\n",
              "      <td>151</td>\n",
              "      <td>205</td>\n",
              "      <td>39</td>\n",
              "      <td>162</td>\n",
              "      <td>36</td>\n",
              "      <td>136</td>\n",
              "      <td>187</td>\n",
              "      <td>113</td>\n",
              "      <td>195</td>\n",
              "      <td>...</td>\n",
              "      <td>86</td>\n",
              "      <td>112</td>\n",
              "      <td>165</td>\n",
              "      <td>174</td>\n",
              "      <td>204</td>\n",
              "      <td>91</td>\n",
              "      <td>59</td>\n",
              "      <td>148</td>\n",
              "      <td>139</td>\n",
              "      <td>127</td>\n",
              "    </tr>\n",
              "    <tr>\n",
              "      <th>I2</th>\n",
              "      <td>126</td>\n",
              "      <td>151</td>\n",
              "      <td>205</td>\n",
              "      <td>39</td>\n",
              "      <td>163</td>\n",
              "      <td>36</td>\n",
              "      <td>137</td>\n",
              "      <td>188</td>\n",
              "      <td>113</td>\n",
              "      <td>195</td>\n",
              "      <td>...</td>\n",
              "      <td>86</td>\n",
              "      <td>111</td>\n",
              "      <td>165</td>\n",
              "      <td>173</td>\n",
              "      <td>204</td>\n",
              "      <td>91</td>\n",
              "      <td>59</td>\n",
              "      <td>148</td>\n",
              "      <td>139</td>\n",
              "      <td>127</td>\n",
              "    </tr>\n",
              "    <tr>\n",
              "      <th>I3</th>\n",
              "      <td>126</td>\n",
              "      <td>151</td>\n",
              "      <td>204</td>\n",
              "      <td>39</td>\n",
              "      <td>162</td>\n",
              "      <td>37</td>\n",
              "      <td>136</td>\n",
              "      <td>187</td>\n",
              "      <td>113</td>\n",
              "      <td>194</td>\n",
              "      <td>...</td>\n",
              "      <td>87</td>\n",
              "      <td>112</td>\n",
              "      <td>165</td>\n",
              "      <td>172</td>\n",
              "      <td>203</td>\n",
              "      <td>91</td>\n",
              "      <td>59</td>\n",
              "      <td>148</td>\n",
              "      <td>140</td>\n",
              "      <td>127</td>\n",
              "    </tr>\n",
              "    <tr>\n",
              "      <th>I4</th>\n",
              "      <td>127</td>\n",
              "      <td>151</td>\n",
              "      <td>206</td>\n",
              "      <td>39</td>\n",
              "      <td>162</td>\n",
              "      <td>36</td>\n",
              "      <td>135</td>\n",
              "      <td>188</td>\n",
              "      <td>112</td>\n",
              "      <td>195</td>\n",
              "      <td>...</td>\n",
              "      <td>86</td>\n",
              "      <td>112</td>\n",
              "      <td>165</td>\n",
              "      <td>173</td>\n",
              "      <td>204</td>\n",
              "      <td>91</td>\n",
              "      <td>59</td>\n",
              "      <td>148</td>\n",
              "      <td>139</td>\n",
              "      <td>128</td>\n",
              "    </tr>\n",
              "    <tr>\n",
              "      <th>...</th>\n",
              "      <td>...</td>\n",
              "      <td>...</td>\n",
              "      <td>...</td>\n",
              "      <td>...</td>\n",
              "      <td>...</td>\n",
              "      <td>...</td>\n",
              "      <td>...</td>\n",
              "      <td>...</td>\n",
              "      <td>...</td>\n",
              "      <td>...</td>\n",
              "      <td>...</td>\n",
              "      <td>...</td>\n",
              "      <td>...</td>\n",
              "      <td>...</td>\n",
              "      <td>...</td>\n",
              "      <td>...</td>\n",
              "      <td>...</td>\n",
              "      <td>...</td>\n",
              "      <td>...</td>\n",
              "      <td>...</td>\n",
              "      <td>...</td>\n",
              "    </tr>\n",
              "    <tr>\n",
              "      <th>I1019</th>\n",
              "      <td>147</td>\n",
              "      <td>132</td>\n",
              "      <td>73</td>\n",
              "      <td>127</td>\n",
              "      <td>94</td>\n",
              "      <td>35</td>\n",
              "      <td>189</td>\n",
              "      <td>83</td>\n",
              "      <td>214</td>\n",
              "      <td>84</td>\n",
              "      <td>...</td>\n",
              "      <td>47</td>\n",
              "      <td>62</td>\n",
              "      <td>181</td>\n",
              "      <td>48</td>\n",
              "      <td>74</td>\n",
              "      <td>119</td>\n",
              "      <td>136</td>\n",
              "      <td>76</td>\n",
              "      <td>147</td>\n",
              "      <td>191</td>\n",
              "    </tr>\n",
              "    <tr>\n",
              "      <th>I1020</th>\n",
              "      <td>148</td>\n",
              "      <td>133</td>\n",
              "      <td>74</td>\n",
              "      <td>126</td>\n",
              "      <td>93</td>\n",
              "      <td>35</td>\n",
              "      <td>189</td>\n",
              "      <td>82</td>\n",
              "      <td>213</td>\n",
              "      <td>85</td>\n",
              "      <td>...</td>\n",
              "      <td>46</td>\n",
              "      <td>62</td>\n",
              "      <td>182</td>\n",
              "      <td>49</td>\n",
              "      <td>76</td>\n",
              "      <td>119</td>\n",
              "      <td>136</td>\n",
              "      <td>75</td>\n",
              "      <td>146</td>\n",
              "      <td>190</td>\n",
              "    </tr>\n",
              "    <tr>\n",
              "      <th>I1021</th>\n",
              "      <td>148</td>\n",
              "      <td>132</td>\n",
              "      <td>74</td>\n",
              "      <td>126</td>\n",
              "      <td>94</td>\n",
              "      <td>36</td>\n",
              "      <td>188</td>\n",
              "      <td>83</td>\n",
              "      <td>215</td>\n",
              "      <td>84</td>\n",
              "      <td>...</td>\n",
              "      <td>46</td>\n",
              "      <td>62</td>\n",
              "      <td>182</td>\n",
              "      <td>49</td>\n",
              "      <td>75</td>\n",
              "      <td>119</td>\n",
              "      <td>136</td>\n",
              "      <td>75</td>\n",
              "      <td>147</td>\n",
              "      <td>191</td>\n",
              "    </tr>\n",
              "    <tr>\n",
              "      <th>I1022</th>\n",
              "      <td>148</td>\n",
              "      <td>133</td>\n",
              "      <td>74</td>\n",
              "      <td>126</td>\n",
              "      <td>94</td>\n",
              "      <td>36</td>\n",
              "      <td>189</td>\n",
              "      <td>82</td>\n",
              "      <td>215</td>\n",
              "      <td>84</td>\n",
              "      <td>...</td>\n",
              "      <td>46</td>\n",
              "      <td>62</td>\n",
              "      <td>182</td>\n",
              "      <td>49</td>\n",
              "      <td>75</td>\n",
              "      <td>120</td>\n",
              "      <td>136</td>\n",
              "      <td>76</td>\n",
              "      <td>147</td>\n",
              "      <td>191</td>\n",
              "    </tr>\n",
              "    <tr>\n",
              "      <th>I1023</th>\n",
              "      <td>148</td>\n",
              "      <td>133</td>\n",
              "      <td>73</td>\n",
              "      <td>126</td>\n",
              "      <td>94</td>\n",
              "      <td>36</td>\n",
              "      <td>189</td>\n",
              "      <td>82</td>\n",
              "      <td>214</td>\n",
              "      <td>84</td>\n",
              "      <td>...</td>\n",
              "      <td>46</td>\n",
              "      <td>62</td>\n",
              "      <td>182</td>\n",
              "      <td>49</td>\n",
              "      <td>75</td>\n",
              "      <td>119</td>\n",
              "      <td>136</td>\n",
              "      <td>75</td>\n",
              "      <td>147</td>\n",
              "      <td>191</td>\n",
              "    </tr>\n",
              "  </tbody>\n",
              "</table>\n",
              "<p>1024 rows × 1024 columns</p>\n",
              "</div>\n",
              "      <button class=\"colab-df-convert\" onclick=\"convertToInteractive('df-bea8d982-8807-4551-8c15-33d6be6d1e9c')\"\n",
              "              title=\"Convert this dataframe to an interactive table.\"\n",
              "              style=\"display:none;\">\n",
              "        \n",
              "  <svg xmlns=\"http://www.w3.org/2000/svg\" height=\"24px\"viewBox=\"0 0 24 24\"\n",
              "       width=\"24px\">\n",
              "    <path d=\"M0 0h24v24H0V0z\" fill=\"none\"/>\n",
              "    <path d=\"M18.56 5.44l.94 2.06.94-2.06 2.06-.94-2.06-.94-.94-2.06-.94 2.06-2.06.94zm-11 1L8.5 8.5l.94-2.06 2.06-.94-2.06-.94L8.5 2.5l-.94 2.06-2.06.94zm10 10l.94 2.06.94-2.06 2.06-.94-2.06-.94-.94-2.06-.94 2.06-2.06.94z\"/><path d=\"M17.41 7.96l-1.37-1.37c-.4-.4-.92-.59-1.43-.59-.52 0-1.04.2-1.43.59L10.3 9.45l-7.72 7.72c-.78.78-.78 2.05 0 2.83L4 21.41c.39.39.9.59 1.41.59.51 0 1.02-.2 1.41-.59l7.78-7.78 2.81-2.81c.8-.78.8-2.07 0-2.86zM5.41 20L4 18.59l7.72-7.72 1.47 1.35L5.41 20z\"/>\n",
              "  </svg>\n",
              "      </button>\n",
              "      \n",
              "  <style>\n",
              "    .colab-df-container {\n",
              "      display:flex;\n",
              "      flex-wrap:wrap;\n",
              "      gap: 12px;\n",
              "    }\n",
              "\n",
              "    .colab-df-convert {\n",
              "      background-color: #E8F0FE;\n",
              "      border: none;\n",
              "      border-radius: 50%;\n",
              "      cursor: pointer;\n",
              "      display: none;\n",
              "      fill: #1967D2;\n",
              "      height: 32px;\n",
              "      padding: 0 0 0 0;\n",
              "      width: 32px;\n",
              "    }\n",
              "\n",
              "    .colab-df-convert:hover {\n",
              "      background-color: #E2EBFA;\n",
              "      box-shadow: 0px 1px 2px rgba(60, 64, 67, 0.3), 0px 1px 3px 1px rgba(60, 64, 67, 0.15);\n",
              "      fill: #174EA6;\n",
              "    }\n",
              "\n",
              "    [theme=dark] .colab-df-convert {\n",
              "      background-color: #3B4455;\n",
              "      fill: #D2E3FC;\n",
              "    }\n",
              "\n",
              "    [theme=dark] .colab-df-convert:hover {\n",
              "      background-color: #434B5C;\n",
              "      box-shadow: 0px 1px 3px 1px rgba(0, 0, 0, 0.15);\n",
              "      filter: drop-shadow(0px 1px 2px rgba(0, 0, 0, 0.3));\n",
              "      fill: #FFFFFF;\n",
              "    }\n",
              "  </style>\n",
              "\n",
              "      <script>\n",
              "        const buttonEl =\n",
              "          document.querySelector('#df-bea8d982-8807-4551-8c15-33d6be6d1e9c button.colab-df-convert');\n",
              "        buttonEl.style.display =\n",
              "          google.colab.kernel.accessAllowed ? 'block' : 'none';\n",
              "\n",
              "        async function convertToInteractive(key) {\n",
              "          const element = document.querySelector('#df-bea8d982-8807-4551-8c15-33d6be6d1e9c');\n",
              "          const dataTable =\n",
              "            await google.colab.kernel.invokeFunction('convertToInteractive',\n",
              "                                                     [key], {});\n",
              "          if (!dataTable) return;\n",
              "\n",
              "          const docLinkHtml = 'Like what you see? Visit the ' +\n",
              "            '<a target=\"_blank\" href=https://colab.research.google.com/notebooks/data_table.ipynb>data table notebook</a>'\n",
              "            + ' to learn more about interactive tables.';\n",
              "          element.innerHTML = '';\n",
              "          dataTable['output_type'] = 'display_data';\n",
              "          await google.colab.output.renderOutput(dataTable, element);\n",
              "          const docLink = document.createElement('div');\n",
              "          docLink.innerHTML = docLinkHtml;\n",
              "          element.appendChild(docLink);\n",
              "        }\n",
              "      </script>\n",
              "    </div>\n",
              "  </div>\n",
              "  "
            ]
          },
          "metadata": {},
          "execution_count": 157
        }
      ]
    },
    {
      "cell_type": "code",
      "source": [
        "df4.plot(x='F1', y='F2', style='x')"
      ],
      "metadata": {
        "colab": {
          "base_uri": "https://localhost:8080/",
          "height": 296
        },
        "id": "YfLFG03y_9pq",
        "outputId": "06dabea0-3aad-4be5-e68b-a6da5938e8dc"
      },
      "execution_count": null,
      "outputs": [
        {
          "output_type": "execute_result",
          "data": {
            "text/plain": [
              "<matplotlib.axes._subplots.AxesSubplot at 0x7f6bd6f71c50>"
            ]
          },
          "metadata": {},
          "execution_count": 158
        },
        {
          "output_type": "display_data",
          "data": {
            "text/plain": [
              "<Figure size 432x288 with 1 Axes>"
            ],
            "image/png": "[encoded data removed]"
          },
          "metadata": {
            "needs_background": "light"
          }
        }
      ]
    },
    {
      "cell_type": "markdown",
      "source": [
        "**Elbow Method**"
      ],
      "metadata": {
        "id": "e6kF142qANSf"
      }
    },
    {
      "cell_type": "code",
      "source": [
        "distortions = []\n",
        "for i in range(1, 20):\n",
        "    km = KMeans(n_clusters=i, \n",
        "                init='k-means++', \n",
        "                n_init=10, \n",
        "                max_iter=300, \n",
        "                random_state=0)\n",
        "    km.fit(df4)\n",
        "    distortions.append(km.inertia_)\n",
        "plt.plot(range(1, 20), distortions, marker='o')\n",
        "plt.xlabel('Number of clusters')\n",
        "plt.ylabel('Distortion')\n",
        "plt.tight_layout()\n",
        "plt.show()"
      ],
      "metadata": {
        "colab": {
          "base_uri": "https://localhost:8080/",
          "height": 297
        },
        "id": "RRCNrz8dANb-",
        "outputId": "7b9ee80a-2f7f-4578-8f56-fff76608e781"
      },
      "execution_count": null,
      "outputs": [
        {
          "output_type": "display_data",
          "data": {
            "text/plain": [
              "<Figure size 432x288 with 1 Axes>"
            ],
            "image/png": "[encoded data removed]"
          },
          "metadata": {
            "needs_background": "light"
          }
        }
      ]
    },
    {
      "cell_type": "markdown",
      "source": [
        "**Hierarchical Clustering - Distance Matrix**"
      ],
      "metadata": {
        "id": "0fGn9vNhAn2K"
      }
    },
    {
      "cell_type": "code",
      "source": [
        "row_dist = pd.DataFrame(squareform(pdist(df4, metric='euclidean')),\n",
        "                        columns=df4_index,\n",
        "                        index=df4_index)\n",
        "\n",
        "row_clusters = linkage(row_dist, method='complete', metric='euclidean')\n",
        "pd.DataFrame(row_clusters,\n",
        "             columns=['row label 1', 'row label 2',\n",
        "                      'distance', 'no. of items in clust.'],\n",
        "             index=['cluster %d' % (i + 1)\n",
        "                    for i in range(row_clusters.shape[0])])\n",
        "\n",
        "row_dendr = dendrogram(row_clusters, \n",
        "                       labels=df4_index\n",
        "                       )\n",
        "plt.tight_layout()\n",
        "plt.ylabel('Euclidean distance')\n",
        "plt.show()"
      ],
      "metadata": {
        "colab": {
          "base_uri": "https://localhost:8080/",
          "height": 352
        },
        "id": "K0MhTvn8An-r",
        "outputId": "40298cfc-57c7-434f-b77d-41fb31f2980a"
      },
      "execution_count": null,
      "outputs": [
        {
          "output_type": "stream",
          "name": "stderr",
          "text": [
            "/usr/local/lib/python3.7/dist-packages/ipykernel_launcher.py:5: ClusterWarning: scipy.cluster: The symmetric non-negative hollow observation matrix looks suspiciously like an uncondensed distance matrix\n",
            "  \"\"\"\n"
          ]
        },
        {
          "output_type": "display_data",
          "data": {
            "text/plain": [
              "<Figure size 432x288 with 1 Axes>"
            ],
            "image/png": "[encoded data removed]"
          },
          "metadata": {
            "needs_background": "light"
          }
        }
      ]
    },
    {
      "cell_type": "markdown",
      "source": [
        "**Silhouette Method**"
      ],
      "metadata": {
        "id": "u97KwSw_A-XS"
      }
    },
    {
      "cell_type": "code",
      "source": [
        "km = KMeans(n_clusters=16, \n",
        "            init='k-means++', \n",
        "            n_init=10, \n",
        "            max_iter=300,\n",
        "            tol=1e-04,\n",
        "            random_state=0)\n",
        "y_km = km.fit_predict(df4)\n",
        "\n",
        "cluster_labels = np.unique(y_km)\n",
        "n_clusters = cluster_labels.shape[0]\n",
        "silhouette_vals = silhouette_samples(df4, y_km, metric='euclidean')\n",
        "y_ax_lower, y_ax_upper = 0, 0\n",
        "yticks = []\n",
        "for i, c in enumerate(cluster_labels):\n",
        "    c_silhouette_vals = silhouette_vals[y_km == c]\n",
        "    c_silhouette_vals.sort()\n",
        "    y_ax_upper += len(c_silhouette_vals)\n",
        "    color = cm.jet(float(i) / n_clusters)\n",
        "    plt.barh(range(y_ax_lower, y_ax_upper), c_silhouette_vals, height=1.0, \n",
        "             edgecolor='none', color=color)\n",
        "\n",
        "    yticks.append((y_ax_lower + y_ax_upper) / 2.)\n",
        "    y_ax_lower += len(c_silhouette_vals)\n",
        "    \n",
        "silhouette_avg = np.mean(silhouette_vals)\n",
        "plt.axvline(silhouette_avg, color=\"red\", linestyle=\"--\") \n",
        "\n",
        "plt.yticks(yticks, cluster_labels + 1)\n",
        "plt.ylabel('Cluster')\n",
        "plt.xlabel('Silhouette coefficient')\n",
        "\n",
        "plt.tight_layout()\n",
        "plt.show()"
      ],
      "metadata": {
        "colab": {
          "base_uri": "https://localhost:8080/",
          "height": 297
        },
        "id": "F--kvLW1A-im",
        "outputId": "e87dcc79-abd0-4568-adcd-e7e5b575b390"
      },
      "execution_count": null,
      "outputs": [
        {
          "output_type": "display_data",
          "data": {
            "text/plain": [
              "<Figure size 432x288 with 1 Axes>"
            ],
            "image/png": "[encoded data removed]"
          },
          "metadata": {
            "needs_background": "light"
          }
        }
      ]
    },
    {
      "cell_type": "markdown",
      "source": [
        "**Centroide dos clusters**"
      ],
      "metadata": {
        "id": "Exj1-0WRBIaR"
      }
    },
    {
      "cell_type": "code",
      "source": [
        "for cluster in range(0,15):\n",
        "  color = cm.jet(float(cluster) / 16)\n",
        "  plt.scatter(df4.iloc[y_km == cluster, 0],\n",
        "              df4.iloc[y_km == cluster, 1],\n",
        "              s=50, c=color,\n",
        "              marker='s', edgecolor='black',\n",
        "              label='Cluster'+str(cluster))\n",
        "\n",
        "plt.scatter(km.cluster_centers_[:, 0],\n",
        "            km.cluster_centers_[:, 1],\n",
        "            s=250, marker='*',\n",
        "            c='red', edgecolor='black',\n",
        "            label='Centroids')"
      ],
      "metadata": {
        "colab": {
          "base_uri": "https://localhost:8080/",
          "height": 563
        },
        "id": "KIduKh2iBIhB",
        "outputId": "fa72dba5-76c3-463f-b32e-e3707a53a3c3"
      },
      "execution_count": null,
      "outputs": [
        {
          "output_type": "stream",
          "name": "stderr",
          "text": [
            "*c* argument looks like a single numeric RGB or RGBA sequence, which should be avoided as value-mapping will have precedence in case its length matches with *x* & *y*.  Please use the *color* keyword-argument or provide a 2-D array with a single row if you intend to specify the same RGB or RGBA value for all points.\n",
            "*c* argument looks like a single numeric RGB or RGBA sequence, which should be avoided as value-mapping will have precedence in case its length matches with *x* & *y*.  Please use the *color* keyword-argument or provide a 2-D array with a single row if you intend to specify the same RGB or RGBA value for all points.\n",
            "*c* argument looks like a single numeric RGB or RGBA sequence, which should be avoided as value-mapping will have precedence in case its length matches with *x* & *y*.  Please use the *color* keyword-argument or provide a 2-D array with a single row if you intend to specify the same RGB or RGBA value for all points.\n",
            "*c* argument looks like a single numeric RGB or RGBA sequence, which should be avoided as value-mapping will have precedence in case its length matches with *x* & *y*.  Please use the *color* keyword-argument or provide a 2-D array with a single row if you intend to specify the same RGB or RGBA value for all points.\n",
            "*c* argument looks like a single numeric RGB or RGBA sequence, which should be avoided as value-mapping will have precedence in case its length matches with *x* & *y*.  Please use the *color* keyword-argument or provide a 2-D array with a single row if you intend to specify the same RGB or RGBA value for all points.\n",
            "*c* argument looks like a single numeric RGB or RGBA sequence, which should be avoided as value-mapping will have precedence in case its length matches with *x* & *y*.  Please use the *color* keyword-argument or provide a 2-D array with a single row if you intend to specify the same RGB or RGBA value for all points.\n",
            "*c* argument looks like a single numeric RGB or RGBA sequence, which should be avoided as value-mapping will have precedence in case its length matches with *x* & *y*.  Please use the *color* keyword-argument or provide a 2-D array with a single row if you intend to specify the same RGB or RGBA value for all points.\n",
            "*c* argument looks like a single numeric RGB or RGBA sequence, which should be avoided as value-mapping will have precedence in case its length matches with *x* & *y*.  Please use the *color* keyword-argument or provide a 2-D array with a single row if you intend to specify the same RGB or RGBA value for all points.\n",
            "*c* argument looks like a single numeric RGB or RGBA sequence, which should be avoided as value-mapping will have precedence in case its length matches with *x* & *y*.  Please use the *color* keyword-argument or provide a 2-D array with a single row if you intend to specify the same RGB or RGBA value for all points.\n",
            "*c* argument looks like a single numeric RGB or RGBA sequence, which should be avoided as value-mapping will have precedence in case its length matches with *x* & *y*.  Please use the *color* keyword-argument or provide a 2-D array with a single row if you intend to specify the same RGB or RGBA value for all points.\n",
            "*c* argument looks like a single numeric RGB or RGBA sequence, which should be avoided as value-mapping will have precedence in case its length matches with *x* & *y*.  Please use the *color* keyword-argument or provide a 2-D array with a single row if you intend to specify the same RGB or RGBA value for all points.\n",
            "*c* argument looks like a single numeric RGB or RGBA sequence, which should be avoided as value-mapping will have precedence in case its length matches with *x* & *y*.  Please use the *color* keyword-argument or provide a 2-D array with a single row if you intend to specify the same RGB or RGBA value for all points.\n",
            "*c* argument looks like a single numeric RGB or RGBA sequence, which should be avoided as value-mapping will have precedence in case its length matches with *x* & *y*.  Please use the *color* keyword-argument or provide a 2-D array with a single row if you intend to specify the same RGB or RGBA value for all points.\n",
            "*c* argument looks like a single numeric RGB or RGBA sequence, which should be avoided as value-mapping will have precedence in case its length matches with *x* & *y*.  Please use the *color* keyword-argument or provide a 2-D array with a single row if you intend to specify the same RGB or RGBA value for all points.\n",
            "*c* argument looks like a single numeric RGB or RGBA sequence, which should be avoided as value-mapping will have precedence in case its length matches with *x* & *y*.  Please use the *color* keyword-argument or provide a 2-D array with a single row if you intend to specify the same RGB or RGBA value for all points.\n"
          ]
        },
        {
          "output_type": "execute_result",
          "data": {
            "text/plain": [
              "<matplotlib.collections.PathCollection at 0x7f6bd6c54710>"
            ]
          },
          "metadata": {},
          "execution_count": 163
        },
        {
          "output_type": "display_data",
          "data": {
            "text/plain": [
              "<Figure size 432x288 with 1 Axes>"
            ],
            "image/png": "[encoded data removed]"
          },
          "metadata": {
            "needs_background": "light"
          }
        }
      ]
    }
  ]
}